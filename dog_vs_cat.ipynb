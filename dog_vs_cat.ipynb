{
 "cells": [
  {
   "cell_type": "markdown",
   "metadata": {},
   "source": [
    "## Dog vs Cat Image Classification"
   ]
  },
  {
   "cell_type": "markdown",
   "metadata": {},
   "source": [
    "### !!! Start from [Check Point 1](#Check Point 1) if data have beeen preprocessed and saved to disk when coming back to this notebook."
   ]
  },
  {
   "cell_type": "code",
   "execution_count": null,
   "metadata": {},
   "outputs": [],
   "source": [
    "%matplotlib inline\n",
    "import cv2, os, pickle\n",
    "import numpy as np\n",
    "import tensorflow as tf\n",
    "\n",
    "from tqdm import tqdm\n",
    "from PIL import Image\n",
    "import matplotlib.pyplot as plt\n",
    "from IPython.display import display\n",
    "\n",
    "from sklearn.model_selection import train_test_split\n",
    "\n",
    "print('All modules are imported.')"
   ]
  },
  {
   "cell_type": "markdown",
   "metadata": {},
   "source": [
    "## 1. Preparing the Data"
   ]
  },
  {
   "cell_type": "markdown",
   "metadata": {},
   "source": [
    "### 1.1 Explore the Data\n",
    "#### Dataset statistics"
   ]
  },
  {
   "cell_type": "code",
   "execution_count": null,
   "metadata": {},
   "outputs": [],
   "source": [
    "# Image directoires\n",
    "TRAIN_DIR = 'input/train/'\n",
    "TEST_DIR = 'input/test/'\n",
    "\n",
    "train_images = [TRAIN_DIR+i for i in os.listdir(TRAIN_DIR)]\n",
    "test_images = [TEST_DIR+i for i in os.listdir(TEST_DIR)]\n",
    "\n",
    "# print out statistics of the dataset and show example images\n",
    "print(\"Stats of Dog_vs_Cat Train Dataset\")\n",
    "print(\"Total Images: {}\".format(len(train_images)))\n",
    "print(\"Dog:          {}\".format(len([i for i in train_images if 'dog' in i ])))\n",
    "print(\"Cat:          {}\".format(len([i for i in train_images if 'cat' in i ])))\n",
    "print('')\n",
    "print('Stats of Dog_vs_Cat Test Dataset')\n",
    "print('Total Images: {}'.format(len(test_images)))"
   ]
  },
  {
   "cell_type": "markdown",
   "metadata": {},
   "source": [
    "#### Display Example Images"
   ]
  },
  {
   "cell_type": "code",
   "execution_count": null,
   "metadata": {},
   "outputs": [],
   "source": [
    "# Explore the dataset\n",
    "image_id_list = ['cat.2341', 'cat.1623', 'dog.6128']\n",
    "\n",
    "for image_id in image_id_list:\n",
    "    image_example = cv2.imread('input/train/{}.jpg'.format(image_id), cv2.IMREAD_COLOR)\n",
    "    print(\"Example of Train Image: {}.jpg\".format(image_id))\n",
    "    print(\"Image - Shape: {}\".format(image_example.shape))\n",
    "    print(\"Image - Min Value: {}, Max Value: {}\".format(image_example.min(), image_example.max()))\n",
    "    print(\"Label - {}\".format('dog' if 'dog' in 'input/train/{}.jpg'.format(image_id) else 'cat'))\n",
    "    display(Image.open('input/train/{}.jpg'.format(image_id)))"
   ]
  },
  {
   "cell_type": "markdown",
   "metadata": {},
   "source": [
    "### 1.2 Define Preprocessing Functions\n",
    "#### Resize images\n",
    "The images have various sizes. So the images need to be resized to same size.\n"
   ]
  },
  {
   "cell_type": "code",
   "execution_count": null,
   "metadata": {},
   "outputs": [],
   "source": [
    "def resize_image(list_img_dir, dsize=(64, 64, 3)):\n",
    "    \"\"\"\n",
    "    Resizes images to the specified size, and return\n",
    "    resized image pixels in shape: [imgs_num, row, column, channel]\n",
    "    \n",
    "    param list_img_dir: list of image directories.\n",
    "    param dsize: (row, column, channel).\n",
    "    \"\"\"\n",
    "    # Define specified sizes\n",
    "    ROW = dsize[0]\n",
    "    COL = dsize[1]\n",
    "    CHANNEL = dsize[2]\n",
    "    \n",
    "    features = []\n",
    "    # Resize the images\n",
    "    for img in tqdm(list_img_dir, desc='Resize Images', unit='Images'):\n",
    "        img = cv2.imread(img, cv2.IMREAD_COLOR)\n",
    "        img = cv2.resize(img, dsize=(ROW, COL))\n",
    "        features.append(img)\n",
    "    \n",
    "    features = np.array(features, dtype=np.uint8)\n",
    "    \n",
    "    print('Images are resized to: {}'.format(dsize))\n",
    "    \n",
    "    return features"
   ]
  },
  {
   "cell_type": "markdown",
   "metadata": {},
   "source": [
    "Explore the resized example images"
   ]
  },
  {
   "cell_type": "code",
   "execution_count": null,
   "metadata": {},
   "outputs": [],
   "source": [
    "# Explore the resized image\n",
    "example_features = resize_image(['input/train/{}.jpg'.format(j) for j in image_id_list], dsize=(224, 224, 3))\n",
    "\n",
    "#Show resized example images\n",
    "for i, image_id in enumerate([int(j.split('.')[1]) for j in image_id_list]):\n",
    "    print('Resized Example Images')\n",
    "    print('')\n",
    "    print(\"Example of Train Image: {}.jpg\".format(image_id))\n",
    "    print(\"Image - Shape: {}\".format(example_features[i].shape))\n",
    "    print(\"Image - Min Value: {}, Max Value: {}\".format(example_features[i].min(), example_features[i].max()))\n",
    "    print(\"Label - {}\".format('dog' if 'dog' in image_id_list[i] else 'cat'))\n",
    "    display(Image.fromarray(example_features[i]))\n",
    "    print('')"
   ]
  },
  {
   "cell_type": "markdown",
   "metadata": {},
   "source": [
    "#### Normalize features"
   ]
  },
  {
   "cell_type": "markdown",
   "metadata": {},
   "source": [
    "Normalize the image data with Min-Max scaling to a range of [0.0, 1.0]."
   ]
  },
  {
   "cell_type": "code",
   "execution_count": null,
   "metadata": {},
   "outputs": [],
   "source": [
    "def norm_image(features):\n",
    "    \"\"\"\n",
    "    Normalize a list of image pixels with Min-Max scaling to a range of [0.0, 1.0].\n",
    "    param featurs: image pixels in shape: [imgs_num, row, column, channel]\n",
    "    return: Normalized image pixels\n",
    "    \"\"\"\n",
    "    \n",
    "    features = (features-0)/(255-0)\n",
    "    print('Features are normalized to [0.0, 1.0] with Min-Max Scaling.')\n",
    "    \n",
    "    return features"
   ]
  },
  {
   "cell_type": "markdown",
   "metadata": {},
   "source": [
    "#### One-Hot Encoding Labels"
   ]
  },
  {
   "cell_type": "code",
   "execution_count": null,
   "metadata": {},
   "outputs": [],
   "source": [
    "def one_hot_encode(list_img_dir):\n",
    "    \"\"\"\n",
    "    One hot encode a list of sample labels.\n",
    "    Return a one-hot enncoded vector for each label.\n",
    "    \"\"\"\n",
    "    labels = [[0, 1] if 'cat' in i else [1, 0] for i in list_img_dir]\n",
    "    labels = np.array(labels, dtype=np.float32)\n",
    "    \n",
    "    print('Labels are One-Hot Encoded.')\n",
    "    \n",
    "    return labels"
   ]
  },
  {
   "cell_type": "markdown",
   "metadata": {},
   "source": [
    "#### Test ID"
   ]
  },
  {
   "cell_type": "code",
   "execution_count": null,
   "metadata": {},
   "outputs": [],
   "source": [
    "def test_id(list_img_dir):\n",
    "    \"\"\"\n",
    "    Record ids for test data.\n",
    "    \"\"\"\n",
    "    ids = [int(i.split('/')[2].split('.')[0]) for i in list_img_dir]\n",
    "    \n",
    "    print('Test Image Ids are obtained.')\n",
    "    \n",
    "    return ids"
   ]
  },
  {
   "cell_type": "markdown",
   "metadata": {},
   "source": [
    "#### Save data"
   ]
  },
  {
   "cell_type": "markdown",
   "metadata": {},
   "source": [
    "Save train/validation data."
   ]
  },
  {
   "cell_type": "code",
   "execution_count": null,
   "metadata": {},
   "outputs": [],
   "source": [
    "def save_data(features, labels, filename):\n",
    "    \"\"\"\n",
    "    Save Train/Validation Data to disk.\n",
    "    \"\"\"\n",
    "    \n",
    "    pickle_file = filename\n",
    "    if not os.path.isfile(pickle_file):\n",
    "        print('Saving data to pickle file...')\n",
    "        try:\n",
    "            with open(pickle_file, 'wb') as f:\n",
    "                if 'train' in filename:\n",
    "                    pickle.dump(\n",
    "                        {\n",
    "                            'train_features': features,\n",
    "                            'train_labels': labels\n",
    "                        }, f, pickle.HIGHEST_PROTOCOL)\n",
    "                elif 'validation' in filename:\n",
    "                    pickle.dump(\n",
    "                        {\n",
    "                            'valid_features': features,\n",
    "                            'valid_labels': labels\n",
    "                        }, f, pickle.HIGHEST_PROTOCOL)\n",
    "        except Exception as e:\n",
    "            print('Unable to save data to', pickle_file, ':', e)\n",
    "            raise\n",
    "\n",
    "    print('Features and labels are cached in pickle file: {}.'.format(filename))"
   ]
  },
  {
   "cell_type": "markdown",
   "metadata": {},
   "source": [
    "Save test data."
   ]
  },
  {
   "cell_type": "code",
   "execution_count": null,
   "metadata": {},
   "outputs": [],
   "source": [
    "def save_test_data(features, ids, filename):\n",
    "    \"\"\"\n",
    "    Save Test Data to disk.\n",
    "    \"\"\"\n",
    "    pickle_file = filename\n",
    "    if not os.path.isfile(pickle_file):\n",
    "        print('Saving data to pickle file...')\n",
    "        try:\n",
    "            with open(pickle_file, 'wb') as f:\n",
    "                pickle.dump(\n",
    "                    {\n",
    "                        'test_features': features,\n",
    "                        'test_ids': ids\n",
    "                    }, f, pickle.HIGHEST_PROTOCOL)\n",
    "        except Exception as e:\n",
    "            print('Unable to save data to', pickle_file, ':', e)\n",
    "            raise\n",
    "\n",
    "    print('Features and IDs are cached in pickle file: {}'.format(filename))"
   ]
  },
  {
   "cell_type": "markdown",
   "metadata": {},
   "source": [
    "### 1.3 Preprocessing Images\n",
    "\n",
    "* Train/Validation Set: resize -> normalize -> one-hot encode -> save\n",
    "* Test Set: resize  -> normalize -> save\n",
    "\n",
    "Also be noted that the datasets will be split into chunks to run the preprocessing steps. \n",
    "\n",
    "We can't run the preprocessing steps for all image data at the same time, because this will run out of memory resources when image size is huge.\n",
    "\n",
    "The computer is used has 32 GB RAM, and it succeeds to process all train images with (64x64x3) at the same time, but fails with (224x224x3)."
   ]
  },
  {
   "cell_type": "markdown",
   "metadata": {},
   "source": [
    "#### Split train dataset (shuffle by default)"
   ]
  },
  {
   "cell_type": "code",
   "execution_count": null,
   "metadata": {},
   "outputs": [],
   "source": [
    "# Train validation split\n",
    "# Validation set size is 1000, 4% of total train images\n",
    "train_imgs, val_imgs = train_test_split(train_images, test_size=0.04, random_state=42)\n",
    "\n",
    "print('Train Dataset is split, and shuffled randomly.')\n",
    "print('Train Image:            {}'.format(len(train_imgs)))\n",
    "print('Validation Image:       {}'.format(len(val_imgs)))\n",
    "print('Train/Validation Ratio: {}/{}'.format(len(train_imgs)/len(train_images), len(val_imgs)/len(train_images)))"
   ]
  },
  {
   "cell_type": "code",
   "execution_count": null,
   "metadata": {
    "scrolled": true
   },
   "outputs": [],
   "source": [
    "# Preprocess and save data in chunks due to memory limit\n",
    "chunk_size = 4096\n",
    "image_size = (64, 64, 3)\n",
    "\n",
    "for img_set_num, img_set in enumerate([train_imgs, val_imgs, test_images]):\n",
    "    for i, start in enumerate(range(0, len(img_set), chunk_size)):\n",
    "        # Set flags for feature engineering. This will prevent you from skipping on important step.\n",
    "        is_features_resize = False\n",
    "        is_features_normal = False\n",
    "        is_labels_encod = False\n",
    "        \n",
    "        if img_set_num == 0: #Train Set\n",
    "            pickle_file = 'preprocess_train_{}_{}_chunk_{}.p'.format(image_size[0], image_size[1], i)\n",
    "        elif img_set_num == 1: # Validation Set\n",
    "            pickle_file = 'preprocess_validation_{}_{}_chunk_{}.p'.format(image_size[0], image_size[1], i)\n",
    "        else: # Test Set\n",
    "            pickle_file = 'preprocess_test_{}_{}_chunk_{}.p'.format(image_size[0], image_size[1], i)\n",
    "        \n",
    "        if not os.path.isfile(pickle_file):\n",
    "            end = min(start + chunk_size, len(img_set))\n",
    "            images = img_set[start: end]\n",
    "            \n",
    "            features = resize_image(images, image_size)\n",
    "            is_features_resize = True\n",
    "            \n",
    "            features = norm_image(features)\n",
    "            is_features_normal = True\n",
    "            \n",
    "            if img_set_num == 0 or img_set_num == 1: #Train and Validation Set\n",
    "                labels = one_hot_encode(images)\n",
    "                is_labels_encod = True\n",
    "                save_data(features, labels, pickle_file)\n",
    "                \n",
    "                assert is_features_resize, 'You skipped the step to resize the features'\n",
    "                assert is_features_normal, 'You skipped the step to normalize the features'\n",
    "                assert is_labels_encod, 'You skipped the step to One-Hot Encode the labels'\n",
    "            \n",
    "            else: # Test Set\n",
    "                ids = test_id(images)\n",
    "                save_test_data(features, ids, pickle_file)\n",
    "                \n",
    "                assert is_features_resize, 'You skipped the step to resize the features'\n",
    "                assert is_features_normal, 'You skipped the step to normalize the features'"
   ]
  },
  {
   "cell_type": "markdown",
   "metadata": {},
   "source": [
    "<a id='Check Point 1'></a>\n",
    "## Check Point 1"
   ]
  },
  {
   "cell_type": "markdown",
   "metadata": {},
   "source": [
    "If come back to this notebook or have to restart the notebook, start from here. The preprocessed data have been saved to disk."
   ]
  },
  {
   "cell_type": "code",
   "execution_count": 1,
   "metadata": {},
   "outputs": [
    {
     "name": "stdout",
     "output_type": "stream",
     "text": [
      "All modules are imported.\n"
     ]
    }
   ],
   "source": [
    "%matplotlib inline\n",
    "\n",
    "#Load the modules\n",
    "import pickle\n",
    "import numpy as np\n",
    "import tensorflow as tf\n",
    "import matplotlib.pyplot as plt\n",
    "from tqdm import tqdm\n",
    "import os\n",
    "\n",
    "print('All modules are imported.')"
   ]
  },
  {
   "cell_type": "markdown",
   "metadata": {},
   "source": [
    "Reload preprocessed train and validation dataset from disk"
   ]
  },
  {
   "cell_type": "code",
   "execution_count": 2,
   "metadata": {},
   "outputs": [],
   "source": [
    "preprocess_train_images = [i for i in os.listdir() if 'preprocess_train' in i]\n",
    "train_feature_chunk = []\n",
    "train_label_chunk = []\n",
    "for preprocess_train in preprocess_train_images:\n",
    "    with open(preprocess_train, 'rb') as f:\n",
    "        pickle_chunk_data=pickle.load(f)\n",
    "        train_feature_chunk.append(pickle_chunk_data['train_features'])\n",
    "        train_label_chunk.append(pickle_chunk_data['train_labels'])\n",
    "        del pickle_chunk_data"
   ]
  },
  {
   "cell_type": "code",
   "execution_count": 3,
   "metadata": {},
   "outputs": [],
   "source": [
    "preprocess_valid_images = [i for i in os.listdir() if 'preprocess_validation' in i]\n",
    "val_feature_chunk = []\n",
    "val_label_chunk = []\n",
    "for preprocess_valid in preprocess_valid_images:\n",
    "    with open(preprocess_valid, 'rb') as f:\n",
    "        pickle_chunk_data=pickle.load(f)\n",
    "        val_feature_chunk.append(pickle_chunk_data['valid_features'])\n",
    "        val_label_chunk.append(pickle_chunk_data['valid_labels'])\n",
    "        del pickle_chunk_data"
   ]
  },
  {
   "cell_type": "markdown",
   "metadata": {},
   "source": [
    "## Build the network"
   ]
  },
  {
   "cell_type": "markdown",
   "metadata": {},
   "source": [
    "### Convolution Layer"
   ]
  },
  {
   "cell_type": "code",
   "execution_count": 4,
   "metadata": {},
   "outputs": [],
   "source": [
    "def conv2d(x_tensor, conv_num_outputs, conv_ksize, conv_strides, conv_padding='SAME'):\n",
    "    \"\"\"\n",
    "    Apply convolution then max pooling to x_tensor\n",
    "    :param x_tensor: TensorFlow Tensor\n",
    "    :param conv_num_outputs: Number of outputs for the convolutional layer\n",
    "    :param conv_ksize: kernal size 2-D Tuple for the convolutional layer\n",
    "    :param conv_strides: Stride 2-D Tuple for convolution\n",
    "    :param pool_ksize: kernal size 2-D Tuple for pool\n",
    "    :param pool_strides: Stride 2-D Tuple for pool\n",
    "    :param conv_padding: 'SAME' or 'VALID'\n",
    "    :param pool_padding: 'SAME' or 'VALID\n",
    "    : return: A tensor that represents convolution and max pooling of x_tensor\n",
    "    \"\"\"\n",
    "    weight =  tf.Variable(tf.truncated_normal(conv_ksize+(x_tensor.shape[-1].value,)+(conv_num_outputs,),\n",
    "                                           stddev=0.05))\n",
    "    bias = tf.Variable(tf.zeros([conv_num_outputs]))\n",
    "    x = tf.nn.conv2d(x_tensor, weight, strides=(1,)+conv_strides+(1,), padding=conv_padding)\n",
    "    x = tf.nn.bias_add(x, bias)\n",
    "    x = tf.nn.relu(x)\n",
    "\n",
    "    return x "
   ]
  },
  {
   "cell_type": "markdown",
   "metadata": {},
   "source": [
    "### Convolution and Max Pooling Layer"
   ]
  },
  {
   "cell_type": "code",
   "execution_count": 5,
   "metadata": {},
   "outputs": [],
   "source": [
    "def conv2d_maxpool(x_tensor, conv_num_outputs, conv_ksize, conv_strides, pool_ksize, pool_strides, conv_padding='SAME', pool_padding='SAME'):\n",
    "    \"\"\"\n",
    "    Apply convolution then max pooling to x_tensor\n",
    "    :param x_tensor: TensorFlow Tensor\n",
    "    :param conv_num_outputs: Number of outputs for the convolutional layer\n",
    "    :param conv_ksize: kernal size 2-D Tuple for the convolutional layer\n",
    "    :param conv_strides: Stride 2-D Tuple for convolution\n",
    "    :param pool_ksize: kernal size 2-D Tuple for pool\n",
    "    :param pool_strides: Stride 2-D Tuple for pool\n",
    "    :param conv_padding: 'SAME' or 'VALID'\n",
    "    :param pool_padding: 'SAME' or 'VALID\n",
    "    : return: A tensor that represents convolution and max pooling of x_tensor\n",
    "    \"\"\"\n",
    "    weight =  tf.Variable(tf.truncated_normal(conv_ksize+(x_tensor.shape[-1].value,)+(conv_num_outputs,),\n",
    "                                           stddev=0.05))\n",
    "    bias = tf.Variable(tf.zeros([conv_num_outputs]))\n",
    "    x = tf.nn.conv2d(x_tensor, weight, strides=(1,)+conv_strides+(1,), padding=conv_padding)\n",
    "    x = tf.nn.bias_add(x, bias)\n",
    "    x = tf.nn.relu(x)\n",
    "    x = tf.nn.max_pool(x, ksize=((1,)+ pool_ksize + (1,)),\n",
    "                      strides=((1,)+ pool_strides + (1,)),\n",
    "                      padding=pool_padding)\n",
    "    return x "
   ]
  },
  {
   "cell_type": "markdown",
   "metadata": {},
   "source": [
    "### Flatten Layer"
   ]
  },
  {
   "cell_type": "code",
   "execution_count": 6,
   "metadata": {},
   "outputs": [],
   "source": [
    "def flatten(x_tensor):\n",
    "    \"\"\"\n",
    "    Flatten x_tensor to (Batch Size, Flattened Image Size)\n",
    "    : x_tensor: A tensor of size (Batch Size, ...), where ... are the image dimensions.\n",
    "    : return: A tensor of size (Batch Size, Flattened Image Size).\n",
    "    \"\"\"\n",
    "    flatten_x = tf.reshape(x_tensor, \n",
    "                           shape=[tf.shape(x_tensor)[0], x_tensor.shape[1].value*x_tensor.shape[2].value*x_tensor.shape[3].value])\n",
    "    return flatten_x"
   ]
  },
  {
   "cell_type": "markdown",
   "metadata": {},
   "source": [
    "### Fully-Connected Layer"
   ]
  },
  {
   "cell_type": "code",
   "execution_count": 7,
   "metadata": {},
   "outputs": [],
   "source": [
    "def fully_conn(x_tensor, num_outputs):\n",
    "    \"\"\"\n",
    "    Apply a fully connected layer to x_tensor using weight and bias\n",
    "    : x_tensor: A 2-D tensor where the first dimension is batch size.\n",
    "    : num_outputs: The number of output that the new tensor should be.\n",
    "    : return: A 2-D tensor where the second dimension is num_outputs.\n",
    "    \"\"\"\n",
    "    weight = tf.Variable(tf.truncated_normal((x_tensor.shape[-1].value, num_outputs),\n",
    "                                            stddev = 0.05))\n",
    "    bias = tf.Variable(tf.zeros([num_outputs]))\n",
    "    fc_x = tf.add(tf.matmul(x_tensor, weight), bias)\n",
    "    fc_x = tf.nn.relu(fc_x)\n",
    "    \n",
    "    return fc_x"
   ]
  },
  {
   "cell_type": "markdown",
   "metadata": {},
   "source": [
    "### Output Layer"
   ]
  },
  {
   "cell_type": "code",
   "execution_count": 8,
   "metadata": {},
   "outputs": [],
   "source": [
    "def output(x_tensor, num_outputs):\n",
    "    \"\"\"\n",
    "    Apply a output layer to x_tensor using weight and bias\n",
    "    : x_tensor: A 2-D tensor where the first dimension is batch size.\n",
    "    : num_outputs: The number of output that the new tensor should be.\n",
    "    : return: A 2-D tensor where the second dimension is num_outputs.\n",
    "    \"\"\"\n",
    "    weight = tf.Variable(tf.truncated_normal([x_tensor.shape[-1].value,num_outputs],\n",
    "                                            stddev=0.05))\n",
    "    bias = tf.Variable(tf.zeros([num_outputs]))\n",
    "    return tf.add(tf.matmul(x_tensor, weight), bias)"
   ]
  },
  {
   "cell_type": "markdown",
   "metadata": {},
   "source": [
    "### Create Convolution Model"
   ]
  },
  {
   "cell_type": "code",
   "execution_count": 9,
   "metadata": {},
   "outputs": [],
   "source": [
    "def conv_net(x, keep_prob):\n",
    "    \"\"\"\n",
    "    Create a convolutional neural network model\n",
    "    : x: Placeholder tensor that holds image data.\n",
    "    : keep_prob: Placeholder tensor that hold dropout keep probability.\n",
    "    : return: Tensor that represents logits\n",
    "    \"\"\"\n",
    "    # Function Definition from Above:\n",
    "    #    conv2d_maxpool(x_tensor, conv_num_outputs, conv_ksize, conv_strides, pool_ksize, pool_strides, conv_padding, pool_padding)\n",
    "    #conv = conv2d(x, 64, (3, 3), (1, 1), conv_padding='SAME')\n",
    "    conv = conv2d_maxpool(x, 64, (3, 3), (1, 1), (2, 2), (2, 2), conv_padding='SAME', pool_padding='VALID')\n",
    "    conv = tf.nn.dropout(conv, keep_prob)\n",
    "    #conv = conv2d(conv, 128, (3, 3), (1, 1), conv_padding='SAME')\n",
    "    conv = conv2d_maxpool(conv, 128, (3, 3), (1, 1), (2, 2), (2, 2), conv_padding='SAME', pool_padding='VALID')\n",
    "    conv = tf.nn.dropout(conv, keep_prob)\n",
    "    conv = conv2d_maxpool(conv, 128, (3, 3), (1, 1), (2, 2), (2, 2), conv_padding='SAME', pool_padding='VALID')\n",
    "    conv = tf.nn.dropout(conv, keep_prob)\n",
    "    #conv = conv2d(conv, 256, (3, 3), (1, 1), conv_padding='SAME')\n",
    "    conv = conv2d_maxpool(conv, 256, (3, 3), (1, 1), (2, 2), (2, 2), conv_padding='SAME', pool_padding='VALID')\n",
    "    conv = tf.nn.dropout(conv, keep_prob)\n",
    "    #conv = conv2d(conv, 512, (3, 3), (1, 1), conv_padding='SAME')\n",
    "    conv = conv2d_maxpool(conv, 512, (3, 3), (1, 1), (2, 2), (2, 2), conv_padding='SAME', pool_padding='VALID')\n",
    "    conv = tf.nn.dropout(conv, keep_prob)\n",
    "    conv = conv2d_maxpool(conv, 512, (3, 3), (1, 1), (2, 2), (2, 2), conv_padding='SAME', pool_padding='VALID')\n",
    "    conv = tf.nn.dropout(conv, keep_prob)\n",
    "    \n",
    "    # Function Definition from Above:\n",
    "    #   flatten(x_tensor)\n",
    "    flt = flatten(conv)\n",
    "    flt = tf.nn.dropout(flt, keep_prob)\n",
    "\n",
    "    # Function Definition from Above:\n",
    "    #   fully_conn(x_tensor, num_outputs)\n",
    "    fc = fully_conn(flt, 4096)\n",
    "    fc = tf.nn.dropout(fc, keep_prob)\n",
    "    fc = fully_conn(flt, 4096)\n",
    "    fc = tf.nn.dropout(fc, keep_prob)\n",
    "    # Function Definition from Above:\n",
    "    #   output(x_tensor, num_outputs)\n",
    "    \n",
    "    return output(fc, 2)"
   ]
  },
  {
   "cell_type": "code",
   "execution_count": 10,
   "metadata": {},
   "outputs": [
    {
     "name": "stdout",
     "output_type": "stream",
     "text": [
      "Image Shape: (64, 64, 3)\n"
     ]
    }
   ],
   "source": [
    "##############################\n",
    "## Build the Neural Network ##\n",
    "##############################\n",
    "\n",
    "# Remove previous weights, bias, inputs, etc..\n",
    "tf.reset_default_graph()\n",
    "\n",
    "feature=train_feature_chunk[0]\n",
    "label=train_label_chunk[0]\n",
    "\n",
    "# Inputs\n",
    "ROWS = feature.shape[1]\n",
    "COLS = feature.shape[2]     #Resized image columns size\n",
    "CHANNELS = feature.shape[3] #RGB channels\n",
    "image_shape = (ROWS, COLS, CHANNELS)\n",
    "print(\"Image Shape: {}\".format(image_shape))\n",
    "n_classes = label.shape[1]\n",
    "\n",
    "x = tf.placeholder(tf.float32, shape = (None, image_shape[0], image_shape[1], image_shape[2]), name='x')\n",
    "y = tf.placeholder(tf.float32, shape = (None, n_classes), name='y')\n",
    "keep_prob = tf.placeholder(tf.float32, name='keep_prob')\n",
    "\n",
    "# Model\n",
    "logits = conv_net(x, keep_prob)\n",
    "\n",
    "# Name logits Tensor, so that is can be loaded from disk after training\n",
    "logits = tf.identity(logits, name='logits')\n",
    "\n",
    "# Loss and Optimizer\n",
    "cost = tf.reduce_mean(tf.nn.softmax_cross_entropy_with_logits(logits=logits, labels=y), name='cost')\n",
    "optimizer = tf.train.AdamOptimizer().minimize(cost)\n",
    "\n",
    "# Accuracy\n",
    "correct_pred = tf.equal(tf.argmax(logits, 1), tf.argmax(y, 1))\n",
    "accuracy = tf.reduce_mean(tf.cast(correct_pred, tf.float32), name='accuracy')"
   ]
  },
  {
   "cell_type": "markdown",
   "metadata": {},
   "source": [
    "### Train the Neural Network"
   ]
  },
  {
   "cell_type": "markdown",
   "metadata": {},
   "source": [
    "#### Hyperparameters"
   ]
  },
  {
   "cell_type": "code",
   "execution_count": 11,
   "metadata": {},
   "outputs": [],
   "source": [
    "# Tune Parameters\n",
    "epochs = 30\n",
    "batch_size = 64\n",
    "keep_probability = 0.6"
   ]
  },
  {
   "cell_type": "code",
   "execution_count": 20,
   "metadata": {},
   "outputs": [
    {
     "data": {
      "text/plain": [
       "[(0, (1, 44)), (1, (2, 5))]"
      ]
     },
     "execution_count": 20,
     "metadata": {},
     "output_type": "execute_result"
    }
   ],
   "source": [
    "list(enumerate((zip([1,2],[44,5]))))"
   ]
  },
  {
   "cell_type": "code",
   "execution_count": 29,
   "metadata": {},
   "outputs": [
    {
     "name": "stdout",
     "output_type": "stream",
     "text": [
      "Training...\n"
     ]
    },
    {
     "name": "stderr",
     "output_type": "stream",
     "text": [
      "\r",
      "Running Epochs:   0%|                                                                        | 0/30 [00:00<?, ?Epoch/s]"
     ]
    },
    {
     "name": "stdout",
     "output_type": "stream",
     "text": [
      "Epoch  1, Training Accuracy over 200 images: 55.50%, Validation Loss: 0.69185, Validation Accuracy: 51.02%\n"
     ]
    },
    {
     "name": "stderr",
     "output_type": "stream",
     "text": [
      "\r",
      "Running Epochs:   3%|██▏                                                             | 1/30 [00:22<10:50, 22.43s/Epoch]"
     ]
    },
    {
     "name": "stdout",
     "output_type": "stream",
     "text": [
      "Epoch  2, Training Accuracy over 200 images: 59.50%, Validation Loss: 0.67270, Validation Accuracy: 58.95%\n"
     ]
    },
    {
     "name": "stderr",
     "output_type": "stream",
     "text": [
      "\r",
      "Running Epochs:   7%|████▎                                                           | 2/30 [00:44<10:24, 22.32s/Epoch]"
     ]
    },
    {
     "name": "stdout",
     "output_type": "stream",
     "text": [
      "Epoch  3, Training Accuracy over 200 images: 55.50%, Validation Loss: 0.67767, Validation Accuracy: 55.61%\n"
     ]
    },
    {
     "name": "stderr",
     "output_type": "stream",
     "text": [
      "\r",
      "Running Epochs:  10%|██████▍                                                         | 3/30 [01:06<10:02, 22.31s/Epoch]"
     ]
    },
    {
     "name": "stdout",
     "output_type": "stream",
     "text": [
      "Epoch  4, Training Accuracy over 200 images: 69.50%, Validation Loss: 0.63938, Validation Accuracy: 65.86%\n"
     ]
    },
    {
     "name": "stderr",
     "output_type": "stream",
     "text": [
      "\r",
      "Running Epochs:  13%|████████▌                                                       | 4/30 [01:29<09:39, 22.28s/Epoch]"
     ]
    },
    {
     "name": "stdout",
     "output_type": "stream",
     "text": [
      "Epoch  5, Training Accuracy over 200 images: 69.50%, Validation Loss: 0.61027, Validation Accuracy: 67.93%\n"
     ]
    },
    {
     "name": "stderr",
     "output_type": "stream",
     "text": [
      "\r",
      "Running Epochs:  17%|██████████▋                                                     | 5/30 [01:51<09:16, 22.26s/Epoch]"
     ]
    },
    {
     "name": "stdout",
     "output_type": "stream",
     "text": [
      "Epoch  6, Training Accuracy over 200 images: 79.50%, Validation Loss: 0.57438, Validation Accuracy: 70.88%\n"
     ]
    },
    {
     "name": "stderr",
     "output_type": "stream",
     "text": [
      "\r",
      "Running Epochs:  20%|████████████▊                                                   | 6/30 [02:13<08:53, 22.23s/Epoch]"
     ]
    },
    {
     "name": "stdout",
     "output_type": "stream",
     "text": [
      "Epoch  7, Training Accuracy over 200 images: 81.50%, Validation Loss: 0.52940, Validation Accuracy: 75.39%\n"
     ]
    },
    {
     "name": "stderr",
     "output_type": "stream",
     "text": [
      "\r",
      "Running Epochs:  23%|██████████████▉                                                 | 7/30 [02:35<08:31, 22.23s/Epoch]"
     ]
    },
    {
     "name": "stdout",
     "output_type": "stream",
     "text": [
      "Epoch  8, Training Accuracy over 200 images: 81.00%, Validation Loss: 0.50048, Validation Accuracy: 74.69%\n"
     ]
    },
    {
     "name": "stderr",
     "output_type": "stream",
     "text": [
      "\r",
      "Running Epochs:  27%|█████████████████                                               | 8/30 [02:57<08:08, 22.22s/Epoch]"
     ]
    },
    {
     "name": "stdout",
     "output_type": "stream",
     "text": [
      "Epoch  9, Training Accuracy over 200 images: 78.00%, Validation Loss: 0.50595, Validation Accuracy: 78.26%\n"
     ]
    },
    {
     "name": "stderr",
     "output_type": "stream",
     "text": [
      "\r",
      "Running Epochs:  30%|███████████████████▏                                            | 9/30 [03:19<07:46, 22.20s/Epoch]"
     ]
    },
    {
     "name": "stdout",
     "output_type": "stream",
     "text": [
      "Epoch 10, Training Accuracy over 200 images: 83.00%, Validation Loss: 0.47816, Validation Accuracy: 76.11%\n"
     ]
    },
    {
     "name": "stderr",
     "output_type": "stream",
     "text": [
      "\r",
      "Running Epochs:  33%|█████████████████████                                          | 10/30 [03:41<07:23, 22.19s/Epoch]"
     ]
    },
    {
     "name": "stdout",
     "output_type": "stream",
     "text": [
      "Epoch 11, Training Accuracy over 200 images: 80.50%, Validation Loss: 0.47821, Validation Accuracy: 77.99%\n"
     ]
    },
    {
     "name": "stderr",
     "output_type": "stream",
     "text": [
      "\r",
      "Running Epochs:  37%|███████████████████████                                        | 11/30 [04:03<07:01, 22.17s/Epoch]"
     ]
    },
    {
     "name": "stdout",
     "output_type": "stream",
     "text": [
      "Epoch 12, Training Accuracy over 200 images: 80.00%, Validation Loss: 0.47565, Validation Accuracy: 78.46%\n"
     ]
    },
    {
     "name": "stderr",
     "output_type": "stream",
     "text": [
      "\r",
      "Running Epochs:  40%|█████████████████████████▏                                     | 12/30 [04:25<06:38, 22.17s/Epoch]"
     ]
    },
    {
     "name": "stdout",
     "output_type": "stream",
     "text": [
      "Epoch 13, Training Accuracy over 200 images: 80.50%, Validation Loss: 0.45294, Validation Accuracy: 79.30%\n"
     ]
    },
    {
     "name": "stderr",
     "output_type": "stream",
     "text": [
      "\r",
      "Running Epochs:  43%|███████████████████████████▎                                   | 13/30 [04:48<06:16, 22.17s/Epoch]"
     ]
    },
    {
     "name": "stdout",
     "output_type": "stream",
     "text": [
      "Epoch 14, Training Accuracy over 200 images: 82.50%, Validation Loss: 0.43424, Validation Accuracy: 79.47%\n"
     ]
    },
    {
     "name": "stderr",
     "output_type": "stream",
     "text": [
      "\r",
      "Running Epochs:  47%|█████████████████████████████▍                                 | 14/30 [05:10<05:54, 22.16s/Epoch]"
     ]
    },
    {
     "name": "stdout",
     "output_type": "stream",
     "text": [
      "Epoch 15, Training Accuracy over 200 images: 83.00%, Validation Loss: 0.44002, Validation Accuracy: 80.18%\n"
     ]
    },
    {
     "name": "stderr",
     "output_type": "stream",
     "text": [
      "\r",
      "Running Epochs:  50%|███████████████████████████████▌                               | 15/30 [05:32<05:32, 22.16s/Epoch]"
     ]
    },
    {
     "name": "stdout",
     "output_type": "stream",
     "text": [
      "Epoch 16, Training Accuracy over 200 images: 86.00%, Validation Loss: 0.41045, Validation Accuracy: 81.35%\n"
     ]
    },
    {
     "name": "stderr",
     "output_type": "stream",
     "text": [
      "\r",
      "Running Epochs:  53%|█████████████████████████████████▌                             | 16/30 [05:54<05:10, 22.16s/Epoch]"
     ]
    },
    {
     "name": "stdout",
     "output_type": "stream",
     "text": [
      "Epoch 17, Training Accuracy over 200 images: 85.50%, Validation Loss: 0.43351, Validation Accuracy: 80.98%\n"
     ]
    },
    {
     "name": "stderr",
     "output_type": "stream",
     "text": [
      "\r",
      "Running Epochs:  57%|███████████████████████████████████▋                           | 17/30 [06:16<04:48, 22.16s/Epoch]"
     ]
    },
    {
     "name": "stdout",
     "output_type": "stream",
     "text": [
      "Epoch 18, Training Accuracy over 200 images: 83.00%, Validation Loss: 0.40622, Validation Accuracy: 80.70%\n"
     ]
    },
    {
     "name": "stderr",
     "output_type": "stream",
     "text": [
      "\r",
      "Running Epochs:  60%|█████████████████████████████████████▊                         | 18/30 [06:38<04:25, 22.16s/Epoch]"
     ]
    },
    {
     "name": "stdout",
     "output_type": "stream",
     "text": [
      "Epoch 19, Training Accuracy over 200 images: 84.50%, Validation Loss: 0.39510, Validation Accuracy: 81.17%\n"
     ]
    },
    {
     "name": "stderr",
     "output_type": "stream",
     "text": [
      "\r",
      "Running Epochs:  63%|███████████████████████████████████████▉                       | 19/30 [07:00<04:03, 22.16s/Epoch]"
     ]
    },
    {
     "name": "stdout",
     "output_type": "stream",
     "text": [
      "Epoch 20, Training Accuracy over 200 images: 81.00%, Validation Loss: 0.41682, Validation Accuracy: 80.14%\n"
     ]
    },
    {
     "name": "stderr",
     "output_type": "stream",
     "text": [
      "\r",
      "Running Epochs:  67%|██████████████████████████████████████████                     | 20/30 [07:23<03:41, 22.16s/Epoch]"
     ]
    },
    {
     "name": "stdout",
     "output_type": "stream",
     "text": [
      "Epoch 21, Training Accuracy over 200 images: 86.00%, Validation Loss: 0.39483, Validation Accuracy: 81.39%\n"
     ]
    },
    {
     "name": "stderr",
     "output_type": "stream",
     "text": [
      "\r",
      "Running Epochs:  70%|████████████████████████████████████████████                   | 21/30 [07:45<03:19, 22.16s/Epoch]"
     ]
    },
    {
     "name": "stdout",
     "output_type": "stream",
     "text": [
      "Epoch 22, Training Accuracy over 200 images: 89.50%, Validation Loss: 0.37327, Validation Accuracy: 85.14%\n"
     ]
    },
    {
     "name": "stderr",
     "output_type": "stream",
     "text": [
      "\r",
      "Running Epochs:  73%|██████████████████████████████████████████████▏                | 22/30 [08:07<02:57, 22.16s/Epoch]"
     ]
    },
    {
     "name": "stdout",
     "output_type": "stream",
     "text": [
      "Epoch 23, Training Accuracy over 200 images: 88.00%, Validation Loss: 0.35101, Validation Accuracy: 84.24%\n"
     ]
    },
    {
     "name": "stderr",
     "output_type": "stream",
     "text": [
      "\r",
      "Running Epochs:  77%|████████████████████████████████████████████████▎              | 23/30 [08:29<02:35, 22.15s/Epoch]"
     ]
    },
    {
     "name": "stdout",
     "output_type": "stream",
     "text": [
      "Epoch 24, Training Accuracy over 200 images: 88.00%, Validation Loss: 0.35919, Validation Accuracy: 84.59%\n"
     ]
    },
    {
     "name": "stderr",
     "output_type": "stream",
     "text": [
      "\r",
      "Running Epochs:  80%|██████████████████████████████████████████████████▍            | 24/30 [08:51<02:12, 22.16s/Epoch]"
     ]
    },
    {
     "name": "stdout",
     "output_type": "stream",
     "text": [
      "Epoch 25, Training Accuracy over 200 images: 88.00%, Validation Loss: 0.34577, Validation Accuracy: 84.88%\n"
     ]
    },
    {
     "name": "stderr",
     "output_type": "stream",
     "text": [
      "\r",
      "Running Epochs:  83%|████████████████████████████████████████████████████▌          | 25/30 [09:13<01:50, 22.16s/Epoch]"
     ]
    },
    {
     "name": "stdout",
     "output_type": "stream",
     "text": [
      "Epoch 26, Training Accuracy over 200 images: 87.50%, Validation Loss: 0.36535, Validation Accuracy: 84.73%\n"
     ]
    },
    {
     "name": "stderr",
     "output_type": "stream",
     "text": [
      "\r",
      "Running Epochs:  87%|██████████████████████████████████████████████████████▌        | 26/30 [09:36<01:28, 22.15s/Epoch]"
     ]
    },
    {
     "name": "stdout",
     "output_type": "stream",
     "text": [
      "Epoch 27, Training Accuracy over 200 images: 87.00%, Validation Loss: 0.34347, Validation Accuracy: 86.11%\n"
     ]
    },
    {
     "name": "stderr",
     "output_type": "stream",
     "text": [
      "\r",
      "Running Epochs:  90%|████████████████████████████████████████████████████████▋      | 27/30 [09:58<01:06, 22.15s/Epoch]"
     ]
    },
    {
     "name": "stdout",
     "output_type": "stream",
     "text": [
      "Epoch 28, Training Accuracy over 200 images: 88.00%, Validation Loss: 0.35885, Validation Accuracy: 83.81%\n"
     ]
    },
    {
     "name": "stderr",
     "output_type": "stream",
     "text": [
      "\r",
      "Running Epochs:  93%|██████████████████████████████████████████████████████████▊    | 28/30 [10:20<00:44, 22.16s/Epoch]"
     ]
    },
    {
     "name": "stdout",
     "output_type": "stream",
     "text": [
      "Epoch 29, Training Accuracy over 200 images: 86.00%, Validation Loss: 0.34408, Validation Accuracy: 85.04%\n"
     ]
    },
    {
     "name": "stderr",
     "output_type": "stream",
     "text": [
      "\r",
      "Running Epochs:  97%|████████████████████████████████████████████████████████████▉  | 29/30 [10:42<00:22, 22.15s/Epoch]"
     ]
    },
    {
     "name": "stdout",
     "output_type": "stream",
     "text": [
      "Epoch 30, Training Accuracy over 200 images: 87.00%, Validation Loss: 0.36012, Validation Accuracy: 84.59%\n"
     ]
    },
    {
     "name": "stderr",
     "output_type": "stream",
     "text": [
      "Running Epochs: 100%|███████████████████████████████████████████████████████████████| 30/30 [11:04<00:00, 22.15s/Epoch]\n"
     ]
    }
   ],
   "source": [
    "save_model_path = './dog_vs_cat'\n",
    "\n",
    "train_acc_epoch = []\n",
    "val_loss_epoch = []\n",
    "val_acc_epoch = []\n",
    "\n",
    "print('Training...')\n",
    "with tf.Session() as sess:\n",
    "    #Initializing the variables\n",
    "    sess.run(tf.global_variables_initializer())\n",
    "    \n",
    "    # Training cycle\n",
    "    for epoch in tqdm(range(epochs), desc='Running Epochs', unit='Epoch'):\n",
    "        \n",
    "        num_of_chunk = len(train_feature_chunk)\n",
    "        # Loop over all batches      \n",
    "        for i, (train_feature, train_label) in enumerate(zip(train_feature_chunk, train_label_chunk)):\n",
    "            \n",
    "            chunk_size = train_feature.shape[0]\n",
    "            for start in range(0, chunk_size, batch_size):                \n",
    "                end = min(start + batch_size, chunk_size)\n",
    "                train_feature_batch = train_feature[start: end]\n",
    "                train_label_batch = train_label[start: end]\n",
    "                \n",
    "                #Run optimizer on each batch\n",
    "                sess.run(optimizer, feed_dict={\n",
    "                    x: train_feature_batch,\n",
    "                    y: train_label_batch,\n",
    "                    keep_prob: keep_probability\n",
    "                })\n",
    "                \n",
    "                # Calculate and log training accuracy at end of each epoch, for last 200 train images\n",
    "                if (i == num_of_chunk - 1)&(end==chunk_size):\n",
    "                    assert chunk_size >= 200,  'The No. of train images used for calculating accuracy is less than 200'\n",
    "                    train_acc_epoch.append(sess.run(accuracy, feed_dict={\n",
    "                        x: train_feature[-200:],\n",
    "                        y: train_label[-200:],\n",
    "                        keep_prob: 1.0\n",
    "                    }))\n",
    "    \n",
    "        # Calculate and log validation loss and accuracy at end of each epoch for validation set\n",
    "        val_loss = 0\n",
    "        val_acc = 0\n",
    "        val_batch_count = 0     \n",
    "        for val_feature, val_label in zip(val_feature_chunk, val_label_chunk):\n",
    "            \n",
    "            chunk_size = val_feature.shape[0]\n",
    "            \n",
    "            for start in range(0, chunk_size, batch_size):\n",
    "                end = min(start + batch_size, chunk_size)\n",
    "                val_feature_batch = val_feature[start:end]\n",
    "                val_label_batch = val_label[start:end]\n",
    "                \n",
    "                val_loss += sess.run(cost, feed_dict={\n",
    "                    x: val_feature_batch,\n",
    "                    y: val_label_batch,\n",
    "                    keep_prob: 1.0\n",
    "                })\n",
    "                \n",
    "                val_acc += sess.run(accuracy, feed_dict={\n",
    "                    x: val_feature_batch,\n",
    "                    y: val_label_batch,\n",
    "                    keep_prob: 1.0\n",
    "                })\n",
    "                val_batch_count += 1         \n",
    "        \n",
    "        val_loss_epoch.append(val_loss/val_batch_count)\n",
    "        val_acc_epoch.append(val_acc/val_batch_count)\n",
    "        \n",
    "        print('Epoch {:>2}, Training Accuracy over 200 images: {:.2f}%, Validation Loss: {:>3.5f}, Validation Accuracy: {:.2f}%'.format(epoch+1, \n",
    "                                                                                                                        train_acc_epoch[epoch]*100,\n",
    "                                                                                                                        val_loss_epoch[epoch],\n",
    "                                                                                                                        val_acc_epoch[epoch]*100))\n",
    "        if val_loss_epoch[epoch] <= 0.05629:\n",
    "            break\n",
    "    # Save model\n",
    "    saver = tf.train.Saver()\n",
    "    save_path = saver.save(sess, save_model_path)"
   ]
  },
  {
   "cell_type": "code",
   "execution_count": 42,
   "metadata": {},
   "outputs": [
    {
     "data": {
      "image/png": "[encoded data removed]",
      "text/plain": [
       "<matplotlib.figure.Figure at 0x1aed14ff438>"
      ]
     },
     "metadata": {},
     "output_type": "display_data"
    }
   ],
   "source": [
    "loss_plot = plt.subplot(211)\n",
    "loss_plot.set_title('Loss')\n",
    "loss_plot.plot(range(epoch+1), val_loss_epoch, 'x', label='Validation Loss')\n",
    "loss_plot.legend(loc='lower left')\n",
    "loss_plot.set_ylim([0, 0.8])\n",
    "\n",
    "acc_plot = plt.subplot(212)\n",
    "acc_plot.set_title('Accuracy')\n",
    "acc_plot.plot(range(epoch+1), train_acc_epoch, 'r', label='Training Accuracy')\n",
    "acc_plot.plot(range(epoch+1), val_acc_epoch, 'x', label='Validation Accuracy')\n",
    "acc_plot.legend(loc='lower right')\n",
    "acc_plot.set_ylim([0.5,1.0])\n",
    "plt.tight_layout()\n",
    "plt.show()"
   ]
  },
  {
   "cell_type": "markdown",
   "metadata": {},
   "source": [
    "### Check Point 2"
   ]
  },
  {
   "cell_type": "markdown",
   "metadata": {},
   "source": [
    "### Test Model"
   ]
  },
  {
   "cell_type": "code",
   "execution_count": null,
   "metadata": {},
   "outputs": [],
   "source": [
    "import tensorflow as tf\n",
    "import pandas as pd\n",
    "import numpy as np\n",
    "import pickle\n",
    "from tqdm import tqdm"
   ]
  },
  {
   "cell_type": "code",
   "execution_count": null,
   "metadata": {},
   "outputs": [],
   "source": [
    "# Set batch size if not already set\n",
    "try:\n",
    "    if batch_size:\n",
    "        pass\n",
    "except NameError:\n",
    "    batch_size = 64\n",
    "\n",
    "save_model_path = './dog_vs_cat'\n",
    "\n",
    "\n",
    "preprocess_test_images = [i for i in os.listdir() if 'preprocess_test' in i]\n",
    "test_feature_in_chunk = []\n",
    "test_id_in_chunk = []\n",
    "for preprocess_test in tqdm(preprocess_test_images, desc='Reload Test Image Chunks', unit='Chunk'):\n",
    "    with open(preprocess_test, 'rb') as f:\n",
    "        pickle_chunk_data=pickle.load(f)\n",
    "        test_feature_in_chunk.append(pickle_chunk_data['test_features'])\n",
    "        test_id_in_chunk.append(pickle_chunk_data['test_ids'])\n",
    "        del pickle_chunk_data\n",
    "        "
   ]
  },
  {
   "cell_type": "code",
   "execution_count": null,
   "metadata": {},
   "outputs": [],
   "source": [
    "loaded_graph = tf.Graph()\n",
    "predictions = []\n",
    "    \n",
    "with tf.Session(graph=loaded_graph) as sess:\n",
    "    #Load model\n",
    "    loader = tf.train.import_meta_graph(save_model_path + '.meta')\n",
    "    loader.restore(sess, save_model_path)\n",
    "        \n",
    "    # Get Tensors from loaded model\n",
    "    loaded_x = loaded_graph.get_tensor_by_name('x:0')\n",
    "    loaded_y = loaded_graph.get_tensor_by_name('y:0')\n",
    "    loaded_keep_prob = loaded_graph.get_tensor_by_name('keep_prob:0')\n",
    "    loaded_logits = loaded_graph.get_tensor_by_name('logits:0')\n",
    "        \n",
    "    for test_feature in tqdm(test_feature_in_chunk, desc='Making Prediction', unit='data chunk'):\n",
    "        for batch_start in range(0, test_feature.shape[0], batch_size):\n",
    "            batch_end = min(batch_start + batch_size, test_feature.shape[0])\n",
    "            test_feature_batch = test_feature[batch_start: batch_end]\n",
    "            test_predictions = sess.run(\n",
    "            tf.nn.softmax(loaded_logits),\n",
    "            feed_dict={loaded_x: test_feature_batch, loaded_keep_prob: 1.0})\n",
    "            predictions.append(test_predictions[:,0])\n",
    "    \n",
    "    predictions = np.concatenate(predictions)"
   ]
  },
  {
   "cell_type": "code",
   "execution_count": null,
   "metadata": {},
   "outputs": [],
   "source": [
    "test_ids=[image_id for chunk_id in test_id_in_chunk for image_id in chunk_id]\n",
    "    \n",
    "submissions = {'id': test_ids,\n",
    "                'label': predictions}\n",
    "df = pd.DataFrame.from_dict(submissions)\n",
    "df.to_csv('submission.csv', index=False)"
   ]
  }
 ],
 "metadata": {
  "anaconda-cloud": {},
  "kernelspec": {
   "display_name": "Python 3",
   "language": "python",
   "name": "python3"
  },
  "language_info": {
   "codemirror_mode": {
    "name": "ipython",
    "version": 3
   },
   "file_extension": ".py",
   "mimetype": "text/x-python",
   "name": "python",
   "nbconvert_exporter": "python",
   "pygments_lexer": "ipython3",
   "version": "3.5.4"
  }
 },
 "nbformat": 4,
 "nbformat_minor": 1
}

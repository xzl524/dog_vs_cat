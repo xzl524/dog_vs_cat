{
 "cells": [
  {
   "cell_type": "markdown",
   "metadata": {},
   "source": [
    "## Dog vs Cat Image Classification"
   ]
  },
  {
   "cell_type": "markdown",
   "metadata": {},
   "source": [
    "### !!! Start from [Check Point 1](#Check Point 1) if data have beeen preprocessed and saved to disk when coming back to this notebook."
   ]
  },
  {
   "cell_type": "code",
   "execution_count": null,
   "metadata": {},
   "outputs": [],
   "source": [
    "%matplotlib inline\n",
    "import cv2, os, pickle\n",
    "import numpy as np\n",
    "import tensorflow as tf\n",
    "from tensorflow_vgg import vgg16\n",
    "from tensorflow_vgg import utils\n",
    "import csv\n",
    "\n",
    "from tqdm import tqdm\n",
    "from PIL import Image\n",
    "import matplotlib.pyplot as plt\n",
    "from IPython.display import display\n",
    "\n",
    "from sklearn.model_selection import train_test_split\n",
    "\n",
    "print('All modules are imported.')"
   ]
  },
  {
   "cell_type": "markdown",
   "metadata": {},
   "source": [
    "## 1. Preparing the Data"
   ]
  },
  {
   "cell_type": "markdown",
   "metadata": {},
   "source": [
    "### 1.1 Explore the Data\n",
    "#### Dataset statistics"
   ]
  },
  {
   "cell_type": "code",
   "execution_count": null,
   "metadata": {},
   "outputs": [],
   "source": [
    "# Image directoires\n",
    "TRAIN_DIR = 'input/train/'\n",
    "TEST_DIR = 'input/test/'\n",
    "\n",
    "train_images = [TRAIN_DIR+i for i in os.listdir(TRAIN_DIR)]\n",
    "test_images = [TEST_DIR+i for i in os.listdir(TEST_DIR)]\n",
    "\n",
    "# print out statistics of the dataset and show example images\n",
    "print(\"Stats of Dog_vs_Cat Train Dataset\")\n",
    "print(\"Total Images: {}\".format(len(train_images)))\n",
    "print(\"Dog:          {}\".format(len([i for i in train_images if 'dog' in i ])))\n",
    "print(\"Cat:          {}\".format(len([i for i in train_images if 'cat' in i ])))\n",
    "print('')\n",
    "print('Stats of Dog_vs_Cat Test Dataset')\n",
    "print('Total Images: {}'.format(len(test_images)))"
   ]
  },
  {
   "cell_type": "markdown",
   "metadata": {},
   "source": [
    "#### Display Example Images"
   ]
  },
  {
   "cell_type": "code",
   "execution_count": null,
   "metadata": {},
   "outputs": [],
   "source": [
    "# Explore the dataset\n",
    "image_id_list = ['cat.2341', 'cat.1623', 'dog.6128']\n",
    "\n",
    "for image_id in image_id_list:\n",
    "    image_example = cv2.imread('input/train/{}.jpg'.format(image_id), cv2.IMREAD_COLOR)\n",
    "    print(\"Example of Train Image: {}.jpg\".format(image_id))\n",
    "    print(\"Image - Shape: {}\".format(image_example.shape))\n",
    "    print(\"Image - Min Value: {}, Max Value: {}\".format(image_example.min(), image_example.max()))\n",
    "    print(\"Label - {}\".format('dog' if 'dog' in 'input/train/{}.jpg'.format(image_id) else 'cat'))\n",
    "    display(Image.open('input/train/{}.jpg'.format(image_id)))"
   ]
  },
  {
   "cell_type": "code",
   "execution_count": null,
   "metadata": {},
   "outputs": [],
   "source": [
    "# Set the batch size higher if you can fit in in your GPU memory\n",
    "batch_size = 50\n",
    "labels = []\n",
    "\n",
    "classes = ['cat', 'dog']\n",
    "\n",
    "#test dataset preprocessing\n",
    "test_id_list = []\n",
    "batch = []\n",
    "\n",
    "codes = None\n",
    "test_codes =  None\n",
    "\n",
    "with tf.Session() as sess:\n",
    "    \n",
    "    vgg = vgg16.Vgg16()\n",
    "    input_ = tf.placeholder(tf.float32, [None, 224, 224, 3])\n",
    "    with tf.name_scope('content_vgg'):\n",
    "        vgg.build(input_)\n",
    "        \n",
    "    for each in classes:        \n",
    "        print(\"Start preprocessing {} images\".format(each))\n",
    "        files = [i for i in train_images if each in i]\n",
    "        for ii, file in tqdm(enumerate(files, 1), desc='{} images'.format(each), unit='Images'):\n",
    "            # Add images to the current batch\n",
    "            # utils.load_image crops the input images for us, from the center\n",
    "            img = utils.load_image(file)\n",
    "            batch.append(img.reshape((1, 224, 224, 3)))\n",
    "            labels.append(each)\n",
    "            \n",
    "            # Running the batch through the network to get the codes\n",
    "            if ii % batch_size == 0 or ii == len(files):\n",
    "                \n",
    "                # Image batch to pass to VGG network\n",
    "                images = np.concatenate(batch)\n",
    "                codes_batch = sess.run(vgg.relu6, feed_dict = {input_ : images})\n",
    "                \n",
    "                # Here I'm building an array of the codes\n",
    "                if codes is None:\n",
    "                    codes = codes_batch\n",
    "                else:\n",
    "                    codes = np.concatenate((codes, codes_batch))\n",
    "                \n",
    "                # Reset to start building the next batch\n",
    "                batch = []\n",
    "    \n",
    "    batch = []\n",
    "    #Process test images  \n",
    "    print(\"Start preprocessing test images\")\n",
    "    for ii, file in tqdm(enumerate(test_images, 1), desc='test images', unit='Images'):\n",
    "        # Add images to the current batch\n",
    "        # utils.load_image crops the input images for us, from the center\n",
    "        img = utils.load_image(file)\n",
    "        batch.append(img.reshape((1, 224, 224, 3)))\n",
    "        test_id_list.append(int(file.split('/')[2].split('.')[0]))\n",
    "            \n",
    "        # Running the batch through the network to get the codes\n",
    "        if ii % batch_size == 0 or ii == len(files):\n",
    "                \n",
    "            # Image batch to pass to VGG network\n",
    "            images = np.concatenate(batch)                \n",
    "            codes_batch = sess.run(vgg.relu6, feed_dict = {input_ : images})\n",
    "                \n",
    "            # Here I'm building an array of the codes\n",
    "            if test_codes is None:\n",
    "                test_codes = codes_batch\n",
    "            else:\n",
    "                test_codes = np.concatenate((test_codes, codes_batch))\n",
    "                \n",
    "            # Reset to start building the next batch\n",
    "            batch = []"
   ]
  },
  {
   "cell_type": "code",
   "execution_count": 4,
   "metadata": {},
   "outputs": [
    {
     "name": "stdout",
     "output_type": "stream",
     "text": [
      "Train codes are cached in file: codes\n",
      "Train Labels are cached in file: labels\n",
      "Test codes are cached in file: test_codes\n",
      "Test ids are cached in file: test_ids\n"
     ]
    }
   ],
   "source": [
    "if not os.path.isfile('codes'):\n",
    "    print('Saving train codes to file...')\n",
    "    # write codes to file\n",
    "    try:\n",
    "        with open('codes', 'w') as f:\n",
    "            codes.tofile(f)\n",
    "    except Exception as e:\n",
    "        print('Unable to save data to: codes')\n",
    "\n",
    "print('Train codes are cached in file: codes')\n",
    "\n",
    "if not os.path.isfile('labels'):\n",
    "    print('Saving train labels to file...')\n",
    "    # write labels to file\n",
    "    try:\n",
    "        with open('labels', 'w') as f:\n",
    "            writer = csv.writer(f, delimiter='\\n')\n",
    "            writer.writerow(labels)\n",
    "    except Exception as e:\n",
    "        print('Unable to save data to: labels')\n",
    "\n",
    "print('Train Labels are cached in file: labels')\n",
    "\n",
    "if not os.path.isfile('test_codes'):\n",
    "    print('Saving test codes to file...')\n",
    "    try:\n",
    "        # write test codes to file\n",
    "        with open('test_codes', 'w') as f:\n",
    "            test_codes.tofile(f)\n",
    "    except Exception as e:\n",
    "        print('Unable to save data to: test_codes')\n",
    "print('Test codes are cached in file: test_codes')\n",
    "\n",
    "if not os.path.isfile('test_ids'):\n",
    "    print('Saving test ids to file...')\n",
    "    # write test ids to file\n",
    "    try:\n",
    "        with open('test_ids', 'w') as f:\n",
    "            writer = csv.writer(f, delimiter='\\n')\n",
    "            writer.writerow(test_id_list)\n",
    "    except Exception as e:\n",
    "        print('Unable to save data to: test_ids')\n",
    "print('Test ids are cached in file: test_ids')"
   ]
  },
  {
   "cell_type": "markdown",
   "metadata": {},
   "source": [
    "<a id='Check Point 1'></a>\n",
    "## Check Point 1"
   ]
  },
  {
   "cell_type": "markdown",
   "metadata": {},
   "source": [
    "If come back to this notebook or have to restart the notebook, start from here. The preprocessed data have been saved to disk."
   ]
  },
  {
   "cell_type": "code",
   "execution_count": 1,
   "metadata": {},
   "outputs": [
    {
     "name": "stdout",
     "output_type": "stream",
     "text": [
      "All modules are imported.\n"
     ]
    }
   ],
   "source": [
    "%matplotlib inline\n",
    "import cv2, os, pickle, csv\n",
    "import numpy as np\n",
    "import tensorflow as tf\n",
    "from tensorflow_vgg import vgg16\n",
    "from tensorflow_vgg import utils\n",
    "\n",
    "from tqdm import tqdm\n",
    "from PIL import Image\n",
    "import matplotlib.pyplot as plt\n",
    "from IPython.display import display\n",
    "\n",
    "from sklearn.model_selection import train_test_split\n",
    "\n",
    "print('All modules are imported.')"
   ]
  },
  {
   "cell_type": "code",
   "execution_count": 3,
   "metadata": {},
   "outputs": [
    {
     "name": "stdout",
     "output_type": "stream",
     "text": [
      "Train codes are reloaded from local disk.\n",
      "Train codes shape: (25000, 4096)\n",
      "Train labels are reloaded from local disk\n",
      "Train labels shape: (25000,)\n"
     ]
    }
   ],
   "source": [
    "try:\n",
    "    with open('labels') as f:\n",
    "        reader = csv.reader(f, delimiter='\\n')\n",
    "        labels = np.array([each for each in reader if len(each) > 0]).squeeze()\n",
    "    print('Train codes are reloaded from local disk.')\n",
    "    print(\"Train codes shape:\", codes.shape)\n",
    "except Exception as e:\n",
    "    print('Unable to reload train codes')\n",
    "    \n",
    "\n",
    "try:   \n",
    "    with open('codes') as f:\n",
    "        codes = np.fromfile(f, dtype=np.float32)\n",
    "        codes = codes.reshape((len(labels), -1))\n",
    "    print('Train labels are reloaded from local disk')\n",
    "    print(\"Train labels shape:\", labels.shape)\n",
    "\n",
    "except Exception as e:\n",
    "    print('Unable to reload train labels')"
   ]
  },
  {
   "cell_type": "markdown",
   "metadata": {},
   "source": [
    "### One-hot encode"
   ]
  },
  {
   "cell_type": "code",
   "execution_count": 4,
   "metadata": {},
   "outputs": [
    {
     "name": "stdout",
     "output_type": "stream",
     "text": [
      "Train Labels are one-hot coded\n",
      "Cat: [0, 1]\n",
      "Dog: [1, 0]\n",
      "Label shape: (25000, 2)\n"
     ]
    }
   ],
   "source": [
    "labels_vecs = [[0, 1] if 'cat' in i else [1, 0] for i in labels]\n",
    "labels_vecs = np.array(labels_vecs)\n",
    "print('Train Labels are one-hot coded')\n",
    "print('Cat: [0, 1]')\n",
    "print('Dog: [1, 0]')\n",
    "print('Label shape:', labels_vecs.shape)"
   ]
  },
  {
   "cell_type": "markdown",
   "metadata": {},
   "source": [
    "### Train test split"
   ]
  },
  {
   "cell_type": "code",
   "execution_count": 6,
   "metadata": {},
   "outputs": [],
   "source": [
    "from sklearn.model_selection import StratifiedShuffleSplit\n",
    "\n",
    "ss = StratifiedShuffleSplit(n_splits=1, test_size=0.04, random_state=42)\n",
    "train_idx, val_idx = next(ss.split(codes, labels_vecs))\n",
    "train_x, train_y = codes[train_idx], labels_vecs[train_idx]\n",
    "val_x, val_y = codes[val_idx], labels_vecs[val_idx]"
   ]
  },
  {
   "cell_type": "code",
   "execution_count": 7,
   "metadata": {},
   "outputs": [
    {
     "name": "stdout",
     "output_type": "stream",
     "text": [
      "Train shapes (x, y): (24000, 4096) (24000, 2)\n",
      "Validation shapes (x, y): (1000, 4096) (1000, 2)\n"
     ]
    }
   ],
   "source": [
    "print(\"Train shapes (x, y):\", train_x.shape, train_y.shape)\n",
    "print(\"Validation shapes (x, y):\", val_x.shape, val_y.shape)"
   ]
  },
  {
   "cell_type": "code",
   "execution_count": 31,
   "metadata": {},
   "outputs": [],
   "source": [
    "def fully_conn(x_tensor, num_outputs):\n",
    "    \"\"\"\n",
    "    Apply a fully connected layer to x_tensor using weight and bias\n",
    "    : x_tensor: A 2-D tensor where the first dimension is batch size.\n",
    "    : num_outputs: The number of output that the new tensor should be.\n",
    "    : return: A 2-D tensor where the second dimension is num_outputs.\n",
    "    \"\"\"\n",
    "    weight = tf.Variable(tf.truncated_normal((x_tensor.shape[-1].value, num_outputs),\n",
    "                                            stddev = 0.01))\n",
    "    bias = tf.Variable(tf.zeros([num_outputs]))\n",
    "    fc_x = tf.add(tf.matmul(x_tensor, weight), bias)\n",
    "    fc_x = tf.nn.relu(fc_x)\n",
    "    \n",
    "    return fc_x"
   ]
  },
  {
   "cell_type": "code",
   "execution_count": 32,
   "metadata": {},
   "outputs": [],
   "source": [
    "def output(x_tensor, num_outputs):\n",
    "    \"\"\"\n",
    "    Apply a output layer to x_tensor using weight and bias\n",
    "    : x_tensor: A 2-D tensor where the first dimension is batch size.\n",
    "    : num_outputs: The number of output that the new tensor should be.\n",
    "    : return: A 2-D tensor where the second dimension is num_outputs.\n",
    "    \"\"\"\n",
    "    weight = tf.Variable(tf.truncated_normal([x_tensor.shape[-1].value,num_outputs],\n",
    "                                            stddev=0.01))\n",
    "    bias = tf.Variable(tf.zeros([num_outputs]))\n",
    "    return tf.add(tf.matmul(x_tensor, weight), bias)"
   ]
  },
  {
   "cell_type": "code",
   "execution_count": 90,
   "metadata": {},
   "outputs": [],
   "source": [
    "##############################\n",
    "## Build the Neural Network ##\n",
    "##############################\n",
    "\n",
    "# Remove previous weights, bias, inputs, etc..\n",
    "tf.reset_default_graph()\n",
    "\n",
    "# Inputs\n",
    "inputs_ = tf.placeholder(tf.float32, shape=[None, codes.shape[1]], name='inputs')\n",
    "labels_ = tf.placeholder(tf.int64, shape=[None, labels_vecs.shape[1]], name='y')\n",
    "#is_training = tf.placeholder(tf.bool, name='is_training')\n",
    "keep_prob = tf.placeholder(tf.float32, name='keep_prob')\n",
    "\n",
    "num_input = inputs_.shape[-1].value\n",
    "num_output = labels_.shape[-1].value\n",
    "\n",
    "# Model\n",
    "#batch_normalized_output = tf.layers.batch_normalization(inputs_, training=is_training)\n",
    "fc = fully_conn(inputs_, 4)\n",
    "fc = tf.nn.dropout(fc, keep_prob=keep_prob)\n",
    "logits = output(fc, 2)\n",
    "\n",
    "# Name logits Tensor, so that is can be loaded from disk after training\n",
    "logits = tf.identity(logits, name='logits')\n",
    "\n",
    "# Loss and Optimizaer\n",
    "cross_entropy = tf.nn.softmax_cross_entropy_with_logits(labels=labels_, logits=logits)\n",
    "cost = tf.reduce_mean(cross_entropy, name='cost')\n",
    "\n",
    "# Tell TensorFlow to update the population statisitcs while training\n",
    "with tf.control_dependencies(tf.get_collection(tf.GraphKeys.UPDATE_OPS)):\n",
    "    optimizer = tf.train.AdamOptimizer().minimize(cost)\n",
    "\n",
    "# Accuracy\n",
    "correct_pred = tf.equal(tf.argmax(logits, 1), tf.argmax(labels_, 1))\n",
    "accuracy = tf.reduce_mean(tf.cast(correct_pred, tf.float32), name='accuracy')"
   ]
  },
  {
   "cell_type": "code",
   "execution_count": 91,
   "metadata": {},
   "outputs": [],
   "source": [
    "def get_batches(x, y, n_batches=10):\n",
    "    \"\"\" Return a generator that yields batches from arrays x and y. \"\"\"\n",
    "    batch_size = len(x)//n_batches\n",
    "    \n",
    "    for ii in range(0, n_batches*batch_size, batch_size):\n",
    "        # If we're not on the last batch, grab data with size batch_size\n",
    "        if ii != (n_batches-1)*batch_size:\n",
    "            X, Y = x[ii: ii+batch_size], y[ii: ii+batch_size] \n",
    "        # On the last batch, grab the rest of the data\n",
    "        else:\n",
    "            X, Y = x[ii:], y[ii:]\n",
    "        # I love generators\n",
    "        yield X, Y"
   ]
  },
  {
   "cell_type": "markdown",
   "metadata": {},
   "source": [
    "#### Hyperparameters"
   ]
  },
  {
   "cell_type": "code",
   "execution_count": 92,
   "metadata": {},
   "outputs": [],
   "source": [
    "# Tune Parameters\n",
    "epochs = 20\n",
    "keep_probability = 0.3"
   ]
  },
  {
   "cell_type": "code",
   "execution_count": 93,
   "metadata": {},
   "outputs": [
    {
     "name": "stderr",
     "output_type": "stream",
     "text": [
      "\r",
      "Running Epoch:   0%|                                                                         | 0/20 [00:00<?, ?Epoch/s]"
     ]
    },
    {
     "name": "stdout",
     "output_type": "stream",
     "text": [
      "Epoch: 1/20 Iteration: 0 Train Loss: 0.68391 Train Acc: 79.42% Validation Loss: 0.68432 Validation Acc: 77.60%\n"
     ]
    },
    {
     "name": "stderr",
     "output_type": "stream",
     "text": [
      "\r",
      "Running Epoch:   5%|███▎                                                             | 1/20 [00:00<00:04,  3.82Epoch/s]"
     ]
    },
    {
     "name": "stdout",
     "output_type": "stream",
     "text": [
      "Epoch: 2/20 Iteration: 10 Train Loss: 0.23275 Train Acc: 98.21% Validation Loss: 0.24108 Validation Acc: 97.60%\n"
     ]
    },
    {
     "name": "stderr",
     "output_type": "stream",
     "text": [
      "\r",
      "Running Epoch:  10%|██████▌                                                          | 2/20 [00:00<00:04,  4.25Epoch/s]"
     ]
    },
    {
     "name": "stdout",
     "output_type": "stream",
     "text": [
      "Epoch: 3/20 Iteration: 20 Train Loss: 0.09354 Train Acc: 98.37% Validation Loss: 0.10377 Validation Acc: 97.80%\n"
     ]
    },
    {
     "name": "stderr",
     "output_type": "stream",
     "text": [
      "\r",
      "Running Epoch:  15%|█████████▊                                                       | 3/20 [00:00<00:03,  4.41Epoch/s]"
     ]
    },
    {
     "name": "stdout",
     "output_type": "stream",
     "text": [
      "Epoch: 4/20 Iteration: 30 Train Loss: 0.06002 Train Acc: 98.79% Validation Loss: 0.07225 Validation Acc: 98.00%\n"
     ]
    },
    {
     "name": "stderr",
     "output_type": "stream",
     "text": [
      "\r",
      "Running Epoch:  20%|█████████████                                                    | 4/20 [00:00<00:03,  4.46Epoch/s]"
     ]
    },
    {
     "name": "stdout",
     "output_type": "stream",
     "text": [
      "Epoch: 5/20 Iteration: 40 Train Loss: 0.04811 Train Acc: 98.83% Validation Loss: 0.06013 Validation Acc: 98.20%\n"
     ]
    },
    {
     "name": "stderr",
     "output_type": "stream",
     "text": [
      "\r",
      "Running Epoch:  25%|████████████████▎                                                | 5/20 [00:01<00:03,  4.50Epoch/s]"
     ]
    },
    {
     "name": "stdout",
     "output_type": "stream",
     "text": [
      "Epoch: 6/20 Iteration: 50 Train Loss: 0.04354 Train Acc: 98.83% Validation Loss: 0.05577 Validation Acc: 98.30%\n"
     ]
    },
    {
     "name": "stderr",
     "output_type": "stream",
     "text": [
      "\r",
      "Running Epoch:  30%|███████████████████▌                                             | 6/20 [00:01<00:03,  4.52Epoch/s]"
     ]
    },
    {
     "name": "stdout",
     "output_type": "stream",
     "text": [
      "Epoch: 7/20 Iteration: 60 Train Loss: 0.04324 Train Acc: 98.87% Validation Loss: 0.05564 Validation Acc: 98.30%\n"
     ]
    },
    {
     "name": "stderr",
     "output_type": "stream",
     "text": [
      "\r",
      "Running Epoch:  35%|██████████████████████▊                                          | 7/20 [00:01<00:02,  4.53Epoch/s]"
     ]
    },
    {
     "name": "stdout",
     "output_type": "stream",
     "text": [
      "Epoch: 8/20 Iteration: 70 Train Loss: 0.03818 Train Acc: 98.87% Validation Loss: 0.05185 Validation Acc: 98.30%\n"
     ]
    },
    {
     "name": "stderr",
     "output_type": "stream",
     "text": [
      "\r",
      "Running Epoch:  40%|██████████████████████████                                       | 8/20 [00:01<00:02,  4.56Epoch/s]"
     ]
    },
    {
     "name": "stdout",
     "output_type": "stream",
     "text": [
      "Epoch: 9/20 Iteration: 80 Train Loss: 0.03740 Train Acc: 99.04% Validation Loss: 0.05186 Validation Acc: 98.30%\n"
     ]
    },
    {
     "name": "stderr",
     "output_type": "stream",
     "text": [
      "\r",
      "Running Epoch:  45%|█████████████████████████████▎                                   | 9/20 [00:01<00:02,  4.57Epoch/s]"
     ]
    },
    {
     "name": "stdout",
     "output_type": "stream",
     "text": [
      "Epoch: 10/20 Iteration: 90 Train Loss: 0.03579 Train Acc: 99.17% Validation Loss: 0.05096 Validation Acc: 98.40%\n"
     ]
    },
    {
     "name": "stderr",
     "output_type": "stream",
     "text": [
      "\r",
      "Running Epoch:  50%|████████████████████████████████                                | 10/20 [00:02<00:02,  4.59Epoch/s]"
     ]
    },
    {
     "name": "stdout",
     "output_type": "stream",
     "text": [
      "Epoch: 11/20 Iteration: 100 Train Loss: 0.03294 Train Acc: 99.12% Validation Loss: 0.04856 Validation Acc: 98.30%\n"
     ]
    },
    {
     "name": "stderr",
     "output_type": "stream",
     "text": [
      "\r",
      "Running Epoch:  55%|███████████████████████████████████▏                            | 11/20 [00:02<00:01,  4.62Epoch/s]"
     ]
    },
    {
     "name": "stdout",
     "output_type": "stream",
     "text": [
      "Epoch: 12/20 Iteration: 110 Train Loss: 0.03526 Train Acc: 99.17% Validation Loss: 0.05051 Validation Acc: 98.30%\n"
     ]
    },
    {
     "name": "stderr",
     "output_type": "stream",
     "text": [
      "\r",
      "Running Epoch:  60%|██████████████████████████████████████▍                         | 12/20 [00:02<00:01,  4.62Epoch/s]"
     ]
    },
    {
     "name": "stdout",
     "output_type": "stream",
     "text": [
      "Epoch: 13/20 Iteration: 120 Train Loss: 0.03256 Train Acc: 99.25% Validation Loss: 0.04859 Validation Acc: 98.40%\n"
     ]
    },
    {
     "name": "stderr",
     "output_type": "stream",
     "text": [
      "\r",
      "Running Epoch:  65%|█████████████████████████████████████████▌                      | 13/20 [00:02<00:01,  4.62Epoch/s]"
     ]
    },
    {
     "name": "stdout",
     "output_type": "stream",
     "text": [
      "Epoch: 14/20 Iteration: 130 Train Loss: 0.03093 Train Acc: 99.37% Validation Loss: 0.04835 Validation Acc: 98.20%\n"
     ]
    },
    {
     "name": "stderr",
     "output_type": "stream",
     "text": [
      "\r",
      "Running Epoch:  70%|████████████████████████████████████████████▊                   | 14/20 [00:03<00:01,  4.64Epoch/s]"
     ]
    },
    {
     "name": "stdout",
     "output_type": "stream",
     "text": [
      "Epoch: 15/20 Iteration: 140 Train Loss: 0.02940 Train Acc: 99.37% Validation Loss: 0.04728 Validation Acc: 98.40%\n"
     ]
    },
    {
     "name": "stderr",
     "output_type": "stream",
     "text": [
      "\r",
      "Running Epoch:  75%|████████████████████████████████████████████████                | 15/20 [00:03<00:01,  4.64Epoch/s]"
     ]
    },
    {
     "name": "stdout",
     "output_type": "stream",
     "text": [
      "Epoch: 16/20 Iteration: 150 Train Loss: 0.02915 Train Acc: 99.37% Validation Loss: 0.04693 Validation Acc: 98.40%\n"
     ]
    },
    {
     "name": "stderr",
     "output_type": "stream",
     "text": [
      "\r",
      "Running Epoch:  80%|███████████████████████████████████████████████████▏            | 16/20 [00:03<00:00,  4.65Epoch/s]"
     ]
    },
    {
     "name": "stdout",
     "output_type": "stream",
     "text": [
      "Epoch: 17/20 Iteration: 160 Train Loss: 0.02969 Train Acc: 99.42% Validation Loss: 0.04698 Validation Acc: 98.40%\n"
     ]
    },
    {
     "name": "stderr",
     "output_type": "stream",
     "text": [
      "\r",
      "Running Epoch:  85%|██████████████████████████████████████████████████████▍         | 17/20 [00:03<00:00,  4.65Epoch/s]"
     ]
    },
    {
     "name": "stdout",
     "output_type": "stream",
     "text": [
      "Epoch: 18/20 Iteration: 170 Train Loss: 0.02603 Train Acc: 99.33% Validation Loss: 0.04570 Validation Acc: 98.20%\n"
     ]
    },
    {
     "name": "stderr",
     "output_type": "stream",
     "text": [
      "\r",
      "Running Epoch:  90%|█████████████████████████████████████████████████████████▌      | 18/20 [00:03<00:00,  4.66Epoch/s]"
     ]
    },
    {
     "name": "stdout",
     "output_type": "stream",
     "text": [
      "Epoch: 19/20 Iteration: 180 Train Loss: 0.02727 Train Acc: 99.50% Validation Loss: 0.04522 Validation Acc: 98.50%\n"
     ]
    },
    {
     "name": "stderr",
     "output_type": "stream",
     "text": [
      "\r",
      "Running Epoch:  95%|████████████████████████████████████████████████████████████▊   | 19/20 [00:04<00:00,  4.66Epoch/s]"
     ]
    },
    {
     "name": "stdout",
     "output_type": "stream",
     "text": [
      "Epoch: 20/20 Iteration: 190 Train Loss: 0.02599 Train Acc: 99.42% Validation Loss: 0.04454 Validation Acc: 98.20%\n"
     ]
    },
    {
     "name": "stderr",
     "output_type": "stream",
     "text": [
      "Running Epoch: 100%|████████████████████████████████████████████████████████████████| 20/20 [00:04<00:00,  4.66Epoch/s]\n"
     ]
    }
   ],
   "source": [
    "save_model_path = './dog_vs_cat'\n",
    "\n",
    "iteration = 0\n",
    "train_loss_iter = []\n",
    "train_acc_iter = []\n",
    "val_loss_iter = []\n",
    "val_acc_iter = []\n",
    "\n",
    "log_freq = 10\n",
    "with tf.Session() as sess:\n",
    "    # Initializing the variables\n",
    "    sess.run(tf.global_variables_initializer())\n",
    "    \n",
    "    # Training cycle\n",
    "    for e in tqdm(range(epochs), desc='Running Epoch', unit='Epoch'):\n",
    "        for x, y in get_batches(train_x, train_y):\n",
    "            loss, acc, _ = sess.run([cost, accuracy, optimizer], feed_dict={inputs_: x,\n",
    "                                                                            labels_: y,\n",
    "                                                                            keep_prob: keep_probability})\n",
    "            \n",
    "            if iteration % log_freq == 0:\n",
    "                loss, acc = sess.run([cost, accuracy], feed_dict={inputs_: x,\n",
    "                                                                  labels_: y,\n",
    "                                                                  keep_prob: 1.0})\n",
    "                train_loss_iter.append(loss)\n",
    "                train_acc_iter.append(acc)\n",
    "                val_loss, val_acc = sess.run([cost, accuracy], feed_dict={inputs_: val_x,\n",
    "                                                                          labels_: val_y,\n",
    "                                                                          keep_prob: 1.0})\n",
    "                val_loss_iter.append(val_loss)\n",
    "                val_acc_iter.append(val_acc)\n",
    "                print(\"Epoch: {}/{}\".format(e+1, epochs),\n",
    "                      \"Iteration: {}\".format(iteration),\n",
    "                      'Train Loss: {:.>3.5f}'.format(train_loss_iter[int(iteration/log_freq)]),\n",
    "                      'Train Acc: {:.2f}%'.format(train_acc_iter[int(iteration/log_freq)]*100),\n",
    "                      'Validation Loss: {:.5f}'.format(val_loss_iter[int(iteration/log_freq)]),\n",
    "                      'Validation Acc: {:.2f}%'.format(val_acc_iter[int(iteration/log_freq)]*100))\n",
    "            iteration += 1\n",
    "    \n",
    "    # Save model\n",
    "    saver = tf.train.Saver()\n",
    "    save_path = saver.save(sess, save_model_path)"
   ]
  },
  {
   "cell_type": "code",
   "execution_count": 94,
   "metadata": {},
   "outputs": [
    {
     "data": {
      "image/png": "[encoded data removed]",
      "text/plain": [
       "<matplotlib.figure.Figure at 0x231163ca438>"
      ]
     },
     "metadata": {},
     "output_type": "display_data"
    }
   ],
   "source": [
    "iter_ = len(train_acc_iter)\n",
    "loss_plot = plt.subplot(211)\n",
    "loss_plot.set_title('Loss')\n",
    "loss_plot.plot(range(iter_), train_loss_iter, 'r', label='Train Loss')\n",
    "loss_plot.plot(range(iter_), val_loss_iter, 'x', label='Validation Loss')\n",
    "loss_plot.legend(loc='lower left')\n",
    "loss_plot.set_ylim([0, 0.2])\n",
    "\n",
    "acc_plot = plt.subplot(212)\n",
    "acc_plot.set_title('Accuracy')\n",
    "acc_plot.plot(range(iter_), train_acc_iter, 'r', label='Training Accuracy')\n",
    "acc_plot.plot(range(iter_), val_acc_iter, 'x', label='Validation Accuracy')\n",
    "acc_plot.legend(loc='lower right')\n",
    "acc_plot.set_ylim([0.9,1.0])\n",
    "plt.tight_layout()\n",
    "plt.show()"
   ]
  },
  {
   "cell_type": "markdown",
   "metadata": {},
   "source": [
    "### Check Point 2"
   ]
  },
  {
   "cell_type": "markdown",
   "metadata": {},
   "source": [
    "### Test Model"
   ]
  },
  {
   "cell_type": "code",
   "execution_count": 81,
   "metadata": {},
   "outputs": [],
   "source": [
    "import tensorflow as tf\n",
    "import pandas as pd\n",
    "import numpy as np\n",
    "import pickle\n",
    "from tqdm import tqdm\n",
    "import csv"
   ]
  },
  {
   "cell_type": "code",
   "execution_count": 82,
   "metadata": {},
   "outputs": [],
   "source": [
    "with open('test_ids') as f:\n",
    "    reader = csv.reader(f, delimiter='\\n')\n",
    "    test_ids = np.array([each for each in reader if len(each) > 0]).squeeze()\n",
    "with open('test_codes') as f:\n",
    "    test_codes = np.fromfile(f, dtype=np.float32)\n",
    "    test_codes = test_codes.reshape((len(test_ids), -1))"
   ]
  },
  {
   "cell_type": "code",
   "execution_count": 83,
   "metadata": {},
   "outputs": [],
   "source": [
    "def get_test_batches(x, n_batches=10):\n",
    "    \"\"\" Return a generator that yields batches from arrays x and y. \"\"\"\n",
    "    batch_size = len(x)//n_batches\n",
    "    \n",
    "    for ii in range(0, n_batches*batch_size, batch_size):\n",
    "        # If we're not on the last batch, grab data with size batch_size\n",
    "        if ii != (n_batches-1)*batch_size:\n",
    "            X = x[ii: ii+batch_size]\n",
    "        # On the last batch, grab the rest of the data\n",
    "        else:\n",
    "            X = x[ii:]\n",
    "        # I love generators\n",
    "        yield X"
   ]
  },
  {
   "cell_type": "code",
   "execution_count": 84,
   "metadata": {},
   "outputs": [
    {
     "name": "stdout",
     "output_type": "stream",
     "text": [
      "INFO:tensorflow:Restoring parameters from ./dog_vs_cat\n"
     ]
    }
   ],
   "source": [
    "loaded_graph = tf.Graph()\n",
    "predictions = []\n",
    "save_model_path = './dog_vs_cat'\n",
    "\n",
    "with tf.Session(graph=loaded_graph) as sess:\n",
    "    #Load model\n",
    "    loader = tf.train.import_meta_graph(save_model_path + '.meta')\n",
    "    loader.restore(sess, save_model_path)\n",
    "        \n",
    "    # Get Tensors from loaded model\n",
    "    loaded_inputs = loaded_graph.get_tensor_by_name('inputs:0')\n",
    "    loaded_logits = loaded_graph.get_tensor_by_name('logits:0')\n",
    "    loaded_keep_prob = loaded_graph.get_tensor_by_name('keep_prob:0')\n",
    "    \n",
    "    for x in get_test_batches(test_codes):\n",
    "        feed = {loaded_inputs: x,\n",
    "                loaded_keep_prob: 1.0}\n",
    "        test_predictions = sess.run(tf.nn.softmax(loaded_logits), feed_dict=feed)\n",
    "        predictions.append(test_predictions[:,0])\n",
    "    \n",
    "    predictions = np.concatenate(predictions)"
   ]
  },
  {
   "cell_type": "code",
   "execution_count": 85,
   "metadata": {},
   "outputs": [],
   "source": [
    "submissions = {'id': test_ids,\n",
    "               'label': predictions}\n",
    "df = pd.DataFrame.from_dict(submissions)\n",
    "df['id'] = pd.to_numeric(df['id'])\n",
    "df = df.sort_values(by='id')\n",
    "df.to_csv('submission.csv', index=False)"
   ]
  },
  {
   "cell_type": "code",
   "execution_count": null,
   "metadata": {},
   "outputs": [],
   "source": []
  }
 ],
 "metadata": {
  "anaconda-cloud": {},
  "kernelspec": {
   "display_name": "Python 3",
   "language": "python",
   "name": "python3"
  },
  "language_info": {
   "codemirror_mode": {
    "name": "ipython",
    "version": 3
   },
   "file_extension": ".py",
   "mimetype": "text/x-python",
   "name": "python",
   "nbconvert_exporter": "python",
   "pygments_lexer": "ipython3",
   "version": "3.5.4"
  }
 },
 "nbformat": 4,
 "nbformat_minor": 1
}

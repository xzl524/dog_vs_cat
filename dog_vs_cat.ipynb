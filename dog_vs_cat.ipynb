{
 "cells": [
  {
   "cell_type": "markdown",
   "metadata": {},
   "source": [
    "#### If come back to this notebook or have to restart the notebook, start from Check Point. The preprocessed data has been saved to disk."
   ]
  },
  {
   "cell_type": "code",
   "execution_count": null,
   "metadata": {},
   "outputs": [],
   "source": [
    "%matplotlib inline\n",
    "import cv2\n",
    "import os\n",
    "import random\n",
    "import numpy as np\n",
    "from PIL import Image\n",
    "from IPython.display import display\n",
    "import matplotlib.pyplot as plt\n",
    "import tensorflow as tf\n",
    "from sklearn.preprocessing import LabelEncoder"
   ]
  },
  {
   "cell_type": "markdown",
   "metadata": {},
   "source": [
    "## Preparing the Data"
   ]
  },
  {
   "cell_type": "code",
   "execution_count": null,
   "metadata": {},
   "outputs": [],
   "source": [
    "TRAIN_DIR = 'input/train/'\n",
    "train_images = [TRAIN_DIR+i for i in os.listdir(TRAIN_DIR)]"
   ]
  },
  {
   "cell_type": "code",
   "execution_count": null,
   "metadata": {},
   "outputs": [],
   "source": [
    "# Explore the dataset\n",
    "image_id = 10000\n",
    "\n",
    "# Don't modify below\n",
    "image_example = cv2.imread(train_images[image_id])\n",
    "print(\"Stats of Dog_vs_Cat Training Dataset\")\n",
    "print(\"Total Images: {}\".format(len(train_images)))\n",
    "print(\"Dog:          {}\".format(len([i for i in train_images if 'dog' in i ])))\n",
    "print(\"Cat:          {}\".format(len([i for i in train_images if 'cat' in i ])))\n",
    "print(\"\")\n",
    "print(\"Example of Image {}\".format(image_id))\n",
    "print(\"Image - Shape: {}\".format(image_example.shape))\n",
    "print(\"Image - Min Value: {}, Max Value: {}\".format(image_example.min(), image_example.max()))\n",
    "print(\"Label - {}\".format('dog' if 'dog' in train_images[image_id] else 'cat'))\n",
    "display(Image.open(train_images[image_id]))"
   ]
  },
  {
   "cell_type": "code",
   "execution_count": null,
   "metadata": {},
   "outputs": [],
   "source": [
    "#Randomize Data\n",
    "random.shuffle(train_images)"
   ]
  },
  {
   "cell_type": "code",
   "execution_count": null,
   "metadata": {},
   "outputs": [],
   "source": [
    "# Resize images\n",
    "ROWS = 64 #Resized image row size\n",
    "COLS = 64 #Resized image columns size\n",
    "CHANNELS = 3 #RGB channels\n",
    "\n",
    "# Don't modify below\n",
    "feature = []\n",
    "for i, img in enumerate(train_images): \n",
    "    img = cv2.imread(img)\n",
    "    img = cv2.resize(img, dsize=(ROWS, COLS))\n",
    "    feature.append(img)\n",
    "feature = np.array(feature, dtype=np.uint8)"
   ]
  },
  {
   "cell_type": "code",
   "execution_count": null,
   "metadata": {},
   "outputs": [],
   "source": [
    "# Explore the resized image\n",
    "image_example_new = 10\n",
    "\n",
    "#Don't modify below\n",
    "print('Resized Image')\n",
    "display(Image.fromarray(feature[image_example_new]))\n",
    "print('')\n",
    "print('Original Image')\n",
    "display(Image.open(train_images[image_example_new]))"
   ]
  },
  {
   "cell_type": "code",
   "execution_count": null,
   "metadata": {},
   "outputs": [],
   "source": [
    "# Normalize features\n",
    "feature = (feature-np.min(feature))/(np.max(feature)-np.min(feature))"
   ]
  },
  {
   "cell_type": "code",
   "execution_count": null,
   "metadata": {},
   "outputs": [],
   "source": [
    "#One-hot encoding on the label\n",
    "label = [[0, 1] if 'cat' in i else [1, 0] for i in train_images]\n",
    "label = np.array(label, dtype=np.uint8)"
   ]
  },
  {
   "cell_type": "code",
   "execution_count": null,
   "metadata": {},
   "outputs": [],
   "source": [
    "import pickle\n",
    "with open('preprocess_image.p', 'wb') as f:\n",
    "    pickle.dump((feature,label), f)"
   ]
  },
  {
   "cell_type": "markdown",
   "metadata": {},
   "source": [
    "## Check Point"
   ]
  },
  {
   "cell_type": "markdown",
   "metadata": {},
   "source": [
    "If come back to this notebook or have to restart the notebook, start from here. The preprocessed data has been saved to disk."
   ]
  },
  {
   "cell_type": "code",
   "execution_count": 1,
   "metadata": {},
   "outputs": [],
   "source": [
    "import pickle\n",
    "import numpy as np\n",
    "import tensorflow as tf"
   ]
  },
  {
   "cell_type": "code",
   "execution_count": 2,
   "metadata": {},
   "outputs": [],
   "source": [
    "with open('preprocess_image.p', 'rb') as f:\n",
    "    feature, label = pickle.load(f)"
   ]
  },
  {
   "cell_type": "code",
   "execution_count": 3,
   "metadata": {},
   "outputs": [
    {
     "name": "stdout",
     "output_type": "stream",
     "text": [
      "Image - Shape: (64, 64, 3)\n"
     ]
    }
   ],
   "source": [
    "print(\"Image - Shape: {}\".format(feature.shape[1:]))"
   ]
  },
  {
   "cell_type": "code",
   "execution_count": 4,
   "metadata": {},
   "outputs": [
    {
     "name": "stderr",
     "output_type": "stream",
     "text": [
      "C:\\Users\\Zaoli\\Anaconda2\\envs\\tensorflow\\lib\\site-packages\\sklearn\\model_selection\\_split.py:2026: FutureWarning: From version 0.21, test_size will always complement train_size unless both are specified.\n",
      "  FutureWarning)\n"
     ]
    }
   ],
   "source": [
    "# Train test split to generate training set and validation set\n",
    "from sklearn.model_selection import train_test_split\n",
    "training_size = 0.96 # 96% of the data will be used as training, \n",
    "                    #and the remaining 10% will be used as validation set\n",
    "train_feature, val_feature, train_label, val_label=train_test_split(feature, label, train_size=training_size, random_state=42)"
   ]
  },
  {
   "cell_type": "code",
   "execution_count": 51,
   "metadata": {},
   "outputs": [],
   "source": [
    "def conv2d(x_tensor, conv_num_outputs, conv_ksize, conv_strides, conv_padding='SAME'):\n",
    "    \"\"\"\n",
    "    Apply convolution then max pooling to x_tensor\n",
    "    :param x_tensor: TensorFlow Tensor\n",
    "    :param conv_num_outputs: Number of outputs for the convolutional layer\n",
    "    :param conv_ksize: kernal size 2-D Tuple for the convolutional layer\n",
    "    :param conv_strides: Stride 2-D Tuple for convolution\n",
    "    :param pool_ksize: kernal size 2-D Tuple for pool\n",
    "    :param pool_strides: Stride 2-D Tuple for pool\n",
    "    :param conv_padding: 'SAME' or 'VALID'\n",
    "    :param pool_padding: 'SAME' or 'VALID\n",
    "    : return: A tensor that represents convolution and max pooling of x_tensor\n",
    "    \"\"\"\n",
    "    weight =  tf.Variable(tf.random_normal(conv_ksize+(x_tensor.shape[-1].value,)+(conv_num_outputs,),\n",
    "                                           stddev=0.05))\n",
    "    bias = tf.Variable(tf.zeros([conv_num_outputs]))\n",
    "    x = tf.nn.conv2d(x_tensor, weight, strides=(1,)+conv_strides+(1,), padding=conv_padding)\n",
    "    x = tf.nn.bias_add(x, bias)\n",
    "    x = tf.nn.relu(x)\n",
    "\n",
    "    return x "
   ]
  },
  {
   "cell_type": "code",
   "execution_count": 52,
   "metadata": {},
   "outputs": [],
   "source": [
    "def conv2d_maxpool(x_tensor, conv_num_outputs, conv_ksize, conv_strides, pool_ksize, pool_strides, conv_padding='SAME', pool_padding='SAME'):\n",
    "    \"\"\"\n",
    "    Apply convolution then max pooling to x_tensor\n",
    "    :param x_tensor: TensorFlow Tensor\n",
    "    :param conv_num_outputs: Number of outputs for the convolutional layer\n",
    "    :param conv_ksize: kernal size 2-D Tuple for the convolutional layer\n",
    "    :param conv_strides: Stride 2-D Tuple for convolution\n",
    "    :param pool_ksize: kernal size 2-D Tuple for pool\n",
    "    :param pool_strides: Stride 2-D Tuple for pool\n",
    "    :param conv_padding: 'SAME' or 'VALID'\n",
    "    :param pool_padding: 'SAME' or 'VALID\n",
    "    : return: A tensor that represents convolution and max pooling of x_tensor\n",
    "    \"\"\"\n",
    "    weight =  tf.Variable(tf.random_normal(conv_ksize+(x_tensor.shape[-1].value,)+(conv_num_outputs,),\n",
    "                                           stddev=0.05))\n",
    "    bias = tf.Variable(tf.zeros([conv_num_outputs]))\n",
    "    x = tf.nn.conv2d(x_tensor, weight, strides=(1,)+conv_strides+(1,), padding=conv_padding)\n",
    "    x = tf.nn.bias_add(x, bias)\n",
    "    x = tf.nn.relu(x)\n",
    "    x = tf.nn.max_pool(x, ksize=((1,)+ pool_ksize + (1,)),\n",
    "                      strides=((1,)+ pool_strides + (1,)),\n",
    "                      padding=pool_padding)\n",
    "    return x "
   ]
  },
  {
   "cell_type": "code",
   "execution_count": 53,
   "metadata": {},
   "outputs": [],
   "source": [
    "def flatten(x_tensor):\n",
    "    \"\"\"\n",
    "    Flatten x_tensor to (Batch Size, Flattened Image Size)\n",
    "    : x_tensor: A tensor of size (Batch Size, ...), where ... are the image dimensions.\n",
    "    : return: A tensor of size (Batch Size, Flattened Image Size).\n",
    "    \"\"\"\n",
    "    flatten_x = tf.reshape(x_tensor, \n",
    "                           shape=[tf.shape(x_tensor)[0], x_tensor.shape[1].value*x_tensor.shape[2].value*x_tensor.shape[3].value])\n",
    "    return flatten_x"
   ]
  },
  {
   "cell_type": "code",
   "execution_count": 54,
   "metadata": {},
   "outputs": [],
   "source": [
    "def fully_conn(x_tensor, num_outputs):\n",
    "    \"\"\"\n",
    "    Apply a fully connected layer to x_tensor using weight and bias\n",
    "    : x_tensor: A 2-D tensor where the first dimension is batch size.\n",
    "    : num_outputs: The number of output that the new tensor should be.\n",
    "    : return: A 2-D tensor where the second dimension is num_outputs.\n",
    "    \"\"\"\n",
    "    weight = tf.Variable(tf.truncated_normal((x_tensor.shape[-1].value, num_outputs),\n",
    "                                            stddev = 0.05))\n",
    "    bias = tf.Variable(tf.zeros([num_outputs]))\n",
    "    fc_x = tf.add(tf.matmul(x_tensor, weight), bias)\n",
    "    fc_x = tf.nn.relu(fc_x)\n",
    "    \n",
    "    return fc_x"
   ]
  },
  {
   "cell_type": "code",
   "execution_count": 55,
   "metadata": {},
   "outputs": [],
   "source": [
    "def output(x_tensor, num_outputs):\n",
    "    \"\"\"\n",
    "    Apply a output layer to x_tensor using weight and bias\n",
    "    : x_tensor: A 2-D tensor where the first dimension is batch size.\n",
    "    : num_outputs: The number of output that the new tensor should be.\n",
    "    : return: A 2-D tensor where the second dimension is num_outputs.\n",
    "    \"\"\"\n",
    "    # TODO: Implement Function\n",
    "    weight = tf.Variable(tf.truncated_normal([x_tensor.shape[-1].value,num_outputs],\n",
    "                                            stddev=0.05))\n",
    "    bias = tf.Variable(tf.zeros([num_outputs]))\n",
    "    return tf.add(tf.matmul(x_tensor, weight), bias)"
   ]
  },
  {
   "cell_type": "code",
   "execution_count": 56,
   "metadata": {},
   "outputs": [],
   "source": [
    "def conv_net(x, keep_prob):\n",
    "    \"\"\"\n",
    "    Create a convolutional neural network model\n",
    "    : x: Placeholder tensor that holds image data.\n",
    "    : keep_prob: Placeholder tensor that hold dropout keep probability.\n",
    "    : return: Tensor that represents logits\n",
    "    \"\"\"\n",
    "    # Function Definition from Above:\n",
    "    #    conv2d_maxpool(x_tensor, conv_num_outputs, conv_ksize, conv_strides, pool_ksize, pool_strides, conv_padding, pool_padding)\n",
    "    conv = conv2d_maxpool(x, 64, (3, 3), (1, 1), (2, 2), (2, 2), conv_padding='SAME', pool_padding='VALID')\n",
    "    conv = tf.nn.dropout(conv, keep_prob)\n",
    "    conv = conv2d_maxpool(x, 64, (3, 3), (1, 1), (2, 2), (2, 2), conv_padding='SAME', pool_padding='VALID')\n",
    "    conv = tf.nn.dropout(conv, keep_prob)\n",
    "    conv = conv2d_maxpool(conv, 128, (3, 3), (1, 1), (2, 2), (2, 2), conv_padding='SAME', pool_padding='VALID')\n",
    "    conv = tf.nn.dropout(conv, keep_prob)\n",
    "    conv = conv2d_maxpool(conv, 128, (3, 3), (1, 1), (2, 2), (2, 2), conv_padding='SAME', pool_padding='VALID')\n",
    "    conv = tf.nn.dropout(conv, keep_prob)\n",
    "    conv = conv2d_maxpool(conv, 256, (3, 3), (1, 1), (2, 2), (2, 2), conv_padding='SAME', pool_padding='VALID')\n",
    "    conv = tf.nn.dropout(conv, keep_prob)\n",
    "    conv = conv2d_maxpool(conv, 512, (3, 3), (1, 1), (2, 2), (2, 2), conv_padding='SAME', pool_padding='VALID')\n",
    "    conv = tf.nn.dropout(conv, keep_prob)\n",
    "    conv = conv2d_maxpool(conv, 512, (3, 3), (1, 1), (2, 2), (2, 2), conv_padding='SAME', pool_padding='VALID')\n",
    "    conv = tf.nn.dropout(conv, keep_prob)\n",
    "    # Function Definition from Above:\n",
    "    #   flatten(x_tensor)\n",
    "    flt = flatten(conv)\n",
    "    flt = tf.nn.dropout(flt, keep_prob)\n",
    "\n",
    "    # Function Definition from Above:\n",
    "    #   fully_conn(x_tensor, num_outputs)\n",
    "    fc = fully_conn(flt, 4096)\n",
    "    fc = tf.nn.dropout(fc, keep_prob)\n",
    "    fc = fully_conn(fc, 4096)\n",
    "    fc = tf.nn.dropout(fc, keep_prob)\n",
    "\n",
    "    # Function Definition from Above:\n",
    "    #   output(x_tensor, num_outputs)\n",
    "    \n",
    "    # TODO: return output\n",
    "    return output(fc, 2)"
   ]
  },
  {
   "cell_type": "code",
   "execution_count": 57,
   "metadata": {},
   "outputs": [],
   "source": [
    "##############################\n",
    "## Build the Neural Network ##\n",
    "##############################\n",
    "\n",
    "# Remove previous weights, bias, inputs, etc..\n",
    "import tensorflow as tf\n",
    "\n",
    "tf.reset_default_graph()\n",
    "\n",
    "# Inputs\n",
    "ROWS = feature.shape[1]\n",
    "COLS = feature.shape[2] #Resized image columns size\n",
    "CHANNELS = feature.shape[3] #RGB channels\n",
    "image_shape = (ROWS, COLS, CHANNELS)\n",
    "n_classes = label.shape[1]\n",
    "x = tf.placeholder(tf.float32, shape = (None, image_shape[0], image_shape[1], image_shape[2]), name='x')\n",
    "y = tf.placeholder(tf.float32, shape = (None, n_classes), name='y')\n",
    "keep_prob = tf.placeholder(tf.float32, name='keep_prob')\n",
    "\n",
    "# Model\n",
    "logits = conv_net(x, keep_prob)\n",
    "\n",
    "# Name logits Tensor, so that is can be loaded from disk after training\n",
    "logits = tf.identity(logits, name='logits')\n",
    "\n",
    "# Loss and Optimizer\n",
    "cost = tf.reduce_mean(tf.nn.softmax_cross_entropy_with_logits(logits=logits, labels=y), name='cost')\n",
    "optimizer = tf.train.AdamOptimizer().minimize(cost)\n",
    "\n",
    "# Accuracy\n",
    "correct_pred = tf.equal(tf.argmax(logits, 1), tf.argmax(y, 1))\n",
    "accuracy = tf.reduce_mean(tf.cast(correct_pred, tf.float32), name='accuracy')"
   ]
  },
  {
   "cell_type": "code",
   "execution_count": 58,
   "metadata": {},
   "outputs": [],
   "source": [
    "# Tune Parameters\n",
    "epochs = 200\n",
    "batch_size = 256\n",
    "val_batch_size = 128\n",
    "keep_probability = 0.6"
   ]
  },
  {
   "cell_type": "code",
   "execution_count": null,
   "metadata": {},
   "outputs": [
    {
     "name": "stdout",
     "output_type": "stream",
     "text": [
      "Training...\n",
      "Epoch  1, Training Loss: 1.16289, Training Accuracy: 50.36%, Validation Loss: 0.69303, Validation Accuracy: 50.86%\n",
      "Epoch  2, Training Loss: 0.69332, Training Accuracy: 49.97%, Validation Loss: 0.69307, Validation Accuracy: 50.86%\n",
      "Epoch  3, Training Loss: 0.69375, Training Accuracy: 49.97%, Validation Loss: 0.69369, Validation Accuracy: 50.86%\n",
      "Epoch  4, Training Loss: 0.69855, Training Accuracy: 49.97%, Validation Loss: 0.70379, Validation Accuracy: 50.86%\n",
      "Epoch  5, Training Loss: 0.71948, Training Accuracy: 49.98%, Validation Loss: 0.73501, Validation Accuracy: 50.86%\n",
      "Epoch  6, Training Loss: 0.72397, Training Accuracy: 50.20%, Validation Loss: 0.73987, Validation Accuracy: 50.95%\n",
      "Epoch  7, Training Loss: 0.73384, Training Accuracy: 50.70%, Validation Loss: 0.73511, Validation Accuracy: 52.17%\n",
      "Epoch  8, Training Loss: 0.72643, Training Accuracy: 51.72%, Validation Loss: 0.74173, Validation Accuracy: 51.86%\n",
      "Epoch  9, Training Loss: 0.72557, Training Accuracy: 52.25%, Validation Loss: 0.72579, Validation Accuracy: 54.03%\n",
      "Epoch 10, Training Loss: 0.72828, Training Accuracy: 52.87%, Validation Loss: 0.69505, Validation Accuracy: 55.83%\n",
      "Epoch 11, Training Loss: 0.71191, Training Accuracy: 54.35%, Validation Loss: 0.70274, Validation Accuracy: 55.63%\n",
      "Epoch 12, Training Loss: 0.71141, Training Accuracy: 54.89%, Validation Loss: 0.72356, Validation Accuracy: 55.61%\n",
      "Epoch 13, Training Loss: 0.70703, Training Accuracy: 56.78%, Validation Loss: 0.70787, Validation Accuracy: 57.66%\n",
      "Epoch 14, Training Loss: 0.69165, Training Accuracy: 58.72%, Validation Loss: 0.65894, Validation Accuracy: 59.93%\n",
      "Epoch 15, Training Loss: 0.65180, Training Accuracy: 61.76%, Validation Loss: 0.64932, Validation Accuracy: 61.17%\n",
      "Epoch 16, Training Loss: 0.64275, Training Accuracy: 63.27%, Validation Loss: 0.67496, Validation Accuracy: 61.27%\n",
      "Epoch 17, Training Loss: 0.64926, Training Accuracy: 62.92%, Validation Loss: 0.62097, Validation Accuracy: 65.41%\n",
      "Epoch 18, Training Loss: 0.62300, Training Accuracy: 65.34%, Validation Loss: 0.62034, Validation Accuracy: 64.20%\n",
      "Epoch 19, Training Loss: 0.59585, Training Accuracy: 67.98%, Validation Loss: 0.58721, Validation Accuracy: 68.29%\n",
      "Epoch 20, Training Loss: 0.58759, Training Accuracy: 68.67%, Validation Loss: 0.62901, Validation Accuracy: 62.07%\n",
      "Epoch 21, Training Loss: 0.58415, Training Accuracy: 68.43%, Validation Loss: 0.56554, Validation Accuracy: 70.36%\n",
      "Epoch 22, Training Loss: 0.56750, Training Accuracy: 70.03%, Validation Loss: 0.57624, Validation Accuracy: 68.67%\n",
      "Epoch 23, Training Loss: 0.55533, Training Accuracy: 71.65%, Validation Loss: 0.56974, Validation Accuracy: 70.55%\n",
      "Epoch 24, Training Loss: 0.54186, Training Accuracy: 72.64%, Validation Loss: 0.56013, Validation Accuracy: 70.80%\n",
      "Epoch 25, Training Loss: 0.52046, Training Accuracy: 74.85%, Validation Loss: 0.50647, Validation Accuracy: 75.57%\n",
      "Epoch 26, Training Loss: 0.51926, Training Accuracy: 75.08%, Validation Loss: 0.51596, Validation Accuracy: 76.08%\n",
      "Epoch 27, Training Loss: 0.50940, Training Accuracy: 75.71%, Validation Loss: 0.55776, Validation Accuracy: 72.63%\n",
      "Epoch 28, Training Loss: 0.49374, Training Accuracy: 76.85%, Validation Loss: 0.49871, Validation Accuracy: 76.30%\n",
      "Epoch 29, Training Loss: 0.48057, Training Accuracy: 77.95%, Validation Loss: 0.47642, Validation Accuracy: 77.47%\n",
      "Epoch 30, Training Loss: 0.45926, Training Accuracy: 79.67%, Validation Loss: 0.43789, Validation Accuracy: 79.79%\n",
      "Epoch 31, Training Loss: 0.45525, Training Accuracy: 79.91%, Validation Loss: 0.42790, Validation Accuracy: 81.54%\n",
      "Epoch 32, Training Loss: 0.43594, Training Accuracy: 81.01%, Validation Loss: 0.42052, Validation Accuracy: 81.05%\n",
      "Epoch 33, Training Loss: 0.43641, Training Accuracy: 81.27%, Validation Loss: 0.45492, Validation Accuracy: 79.57%\n",
      "Epoch 34, Training Loss: 0.41971, Training Accuracy: 82.12%, Validation Loss: 0.42508, Validation Accuracy: 81.37%\n",
      "Epoch 35, Training Loss: 0.39431, Training Accuracy: 83.52%, Validation Loss: 0.39658, Validation Accuracy: 82.80%\n",
      "Epoch 36, Training Loss: 0.39251, Training Accuracy: 83.94%, Validation Loss: 0.41399, Validation Accuracy: 82.93%\n",
      "Epoch 37, Training Loss: 0.38583, Training Accuracy: 84.33%, Validation Loss: 0.37625, Validation Accuracy: 83.73%\n",
      "Epoch 38, Training Loss: 0.37369, Training Accuracy: 84.91%, Validation Loss: 0.35853, Validation Accuracy: 85.07%\n",
      "Epoch 39, Training Loss: 0.37073, Training Accuracy: 85.13%, Validation Loss: 0.36773, Validation Accuracy: 83.53%\n",
      "Epoch 40, Training Loss: 0.35662, Training Accuracy: 85.39%, Validation Loss: 0.37523, Validation Accuracy: 83.02%\n",
      "Epoch 41, Training Loss: 0.33892, Training Accuracy: 86.38%, Validation Loss: 0.33420, Validation Accuracy: 86.33%\n",
      "Epoch 42, Training Loss: 0.33226, Training Accuracy: 86.79%, Validation Loss: 0.33109, Validation Accuracy: 86.70%\n",
      "Epoch 43, Training Loss: 0.32326, Training Accuracy: 87.14%, Validation Loss: 0.32751, Validation Accuracy: 86.25%\n",
      "Epoch 44, Training Loss: 0.32251, Training Accuracy: 87.35%, Validation Loss: 0.32105, Validation Accuracy: 86.79%\n",
      "Epoch 45, Training Loss: 0.31138, Training Accuracy: 87.65%, Validation Loss: 0.34040, Validation Accuracy: 85.62%\n",
      "Epoch 46, Training Loss: 0.30557, Training Accuracy: 87.89%, Validation Loss: 0.31751, Validation Accuracy: 86.45%\n",
      "Epoch 47, Training Loss: 0.30809, Training Accuracy: 87.82%, Validation Loss: 0.33958, Validation Accuracy: 85.23%\n",
      "Epoch 48, Training Loss: 0.29907, Training Accuracy: 88.28%, Validation Loss: 0.32224, Validation Accuracy: 85.84%\n",
      "Epoch 49, Training Loss: 0.28720, Training Accuracy: 88.74%, Validation Loss: 0.32184, Validation Accuracy: 86.96%\n",
      "Epoch 50, Training Loss: 0.28985, Training Accuracy: 88.91%, Validation Loss: 0.30541, Validation Accuracy: 87.13%\n",
      "Epoch 51, Training Loss: 0.28351, Training Accuracy: 89.18%, Validation Loss: 0.30871, Validation Accuracy: 87.23%\n",
      "Epoch 52, Training Loss: 0.27426, Training Accuracy: 89.84%, Validation Loss: 0.28240, Validation Accuracy: 88.45%\n",
      "Epoch 53, Training Loss: 0.26826, Training Accuracy: 89.62%, Validation Loss: 0.27875, Validation Accuracy: 89.13%\n",
      "Epoch 54, Training Loss: 0.25869, Training Accuracy: 90.23%, Validation Loss: 0.28684, Validation Accuracy: 87.96%\n",
      "Epoch 55, Training Loss: 0.26469, Training Accuracy: 90.34%, Validation Loss: 0.28420, Validation Accuracy: 89.89%\n",
      "Epoch 56, Training Loss: 0.26315, Training Accuracy: 90.64%, Validation Loss: 0.27763, Validation Accuracy: 88.52%\n",
      "Epoch 57, Training Loss: 0.25524, Training Accuracy: 90.77%, Validation Loss: 0.29743, Validation Accuracy: 87.70%\n",
      "Epoch 58, Training Loss: 0.25008, Training Accuracy: 91.02%, Validation Loss: 0.26141, Validation Accuracy: 89.79%\n",
      "Epoch 59, Training Loss: 0.24273, Training Accuracy: 91.24%, Validation Loss: 0.24871, Validation Accuracy: 89.78%\n",
      "Epoch 60, Training Loss: 0.23821, Training Accuracy: 91.49%, Validation Loss: 0.26051, Validation Accuracy: 88.93%\n",
      "Epoch 61, Training Loss: 0.22602, Training Accuracy: 91.82%, Validation Loss: 0.27500, Validation Accuracy: 87.87%\n",
      "Epoch 62, Training Loss: 0.23367, Training Accuracy: 91.25%, Validation Loss: 0.28460, Validation Accuracy: 88.33%\n",
      "Epoch 63, Training Loss: 0.22874, Training Accuracy: 91.64%, Validation Loss: 0.24956, Validation Accuracy: 89.74%\n",
      "Epoch 64, Training Loss: 0.21615, Training Accuracy: 92.20%, Validation Loss: 0.26305, Validation Accuracy: 88.57%\n",
      "Epoch 65, Training Loss: 0.21557, Training Accuracy: 92.03%, Validation Loss: 0.25486, Validation Accuracy: 89.72%\n",
      "Epoch 66, Training Loss: 0.21454, Training Accuracy: 92.18%, Validation Loss: 0.23412, Validation Accuracy: 90.64%\n",
      "Epoch 67, Training Loss: 0.21652, Training Accuracy: 92.03%, Validation Loss: 0.28024, Validation Accuracy: 88.01%\n",
      "Epoch 68, Training Loss: 0.20835, Training Accuracy: 92.66%, Validation Loss: 0.23862, Validation Accuracy: 91.11%\n",
      "Epoch 69, Training Loss: 0.21273, Training Accuracy: 92.63%, Validation Loss: 0.26537, Validation Accuracy: 89.62%\n",
      "Epoch 70, Training Loss: 0.20877, Training Accuracy: 92.82%, Validation Loss: 0.26261, Validation Accuracy: 91.03%\n",
      "Epoch 71, Training Loss: 0.20799, Training Accuracy: 92.86%, Validation Loss: 0.23277, Validation Accuracy: 90.10%\n",
      "Epoch 72, Training Loss: 0.20002, Training Accuracy: 93.04%, Validation Loss: 0.24495, Validation Accuracy: 90.05%\n"
     ]
    },
    {
     "name": "stdout",
     "output_type": "stream",
     "text": [
      "Epoch 73, Training Loss: 0.20050, Training Accuracy: 93.20%, Validation Loss: 0.24961, Validation Accuracy: 89.91%\n",
      "Epoch 74, Training Loss: 0.19702, Training Accuracy: 93.35%, Validation Loss: 0.23026, Validation Accuracy: 91.64%\n",
      "Epoch 75, Training Loss: 0.18630, Training Accuracy: 93.73%, Validation Loss: 0.24515, Validation Accuracy: 90.59%\n",
      "Epoch 76, Training Loss: 0.19043, Training Accuracy: 93.63%, Validation Loss: 0.25779, Validation Accuracy: 89.33%\n",
      "Epoch 77, Training Loss: 0.19462, Training Accuracy: 93.68%, Validation Loss: 0.24059, Validation Accuracy: 91.25%\n",
      "Epoch 78, Training Loss: 0.19099, Training Accuracy: 94.06%, Validation Loss: 0.25078, Validation Accuracy: 91.23%\n",
      "Epoch 79, Training Loss: 0.19245, Training Accuracy: 93.98%, Validation Loss: 0.23295, Validation Accuracy: 91.62%\n",
      "Epoch 80, Training Loss: 0.18564, Training Accuracy: 94.17%, Validation Loss: 0.23875, Validation Accuracy: 90.28%\n",
      "Epoch 81, Training Loss: 0.17861, Training Accuracy: 94.43%, Validation Loss: 0.22229, Validation Accuracy: 90.84%\n",
      "Epoch 82, Training Loss: 0.17977, Training Accuracy: 94.41%, Validation Loss: 0.22543, Validation Accuracy: 90.86%\n",
      "Epoch 83, Training Loss: 0.18136, Training Accuracy: 94.30%, Validation Loss: 0.23209, Validation Accuracy: 91.17%\n",
      "Epoch 84, Training Loss: 0.17315, Training Accuracy: 94.62%, Validation Loss: 0.22329, Validation Accuracy: 90.84%\n",
      "Epoch 85, Training Loss: 0.16990, Training Accuracy: 94.68%, Validation Loss: 0.23068, Validation Accuracy: 90.23%\n",
      "Epoch 86, Training Loss: 0.16386, Training Accuracy: 94.86%, Validation Loss: 0.23846, Validation Accuracy: 91.74%\n",
      "Epoch 87, Training Loss: 0.16888, Training Accuracy: 94.91%, Validation Loss: 0.22589, Validation Accuracy: 91.50%\n",
      "Epoch 88, Training Loss: 0.16222, Training Accuracy: 95.04%, Validation Loss: 0.22653, Validation Accuracy: 90.94%\n",
      "Epoch 89, Training Loss: 0.16542, Training Accuracy: 95.07%, Validation Loss: 0.23319, Validation Accuracy: 91.28%\n",
      "Epoch 90, Training Loss: 0.15958, Training Accuracy: 95.09%, Validation Loss: 0.27961, Validation Accuracy: 88.96%\n",
      "Epoch 91, Training Loss: 0.16234, Training Accuracy: 95.09%, Validation Loss: 0.22914, Validation Accuracy: 91.54%\n",
      "Epoch 92, Training Loss: 0.16605, Training Accuracy: 95.24%, Validation Loss: 0.25120, Validation Accuracy: 90.64%\n",
      "Epoch 93, Training Loss: 0.15921, Training Accuracy: 95.21%, Validation Loss: 0.23397, Validation Accuracy: 91.01%\n",
      "Epoch 94, Training Loss: 0.15664, Training Accuracy: 95.49%, Validation Loss: 0.22767, Validation Accuracy: 91.30%\n",
      "Epoch 95, Training Loss: 0.15525, Training Accuracy: 95.55%, Validation Loss: 0.22489, Validation Accuracy: 91.59%\n",
      "Epoch 96, Training Loss: 0.14873, Training Accuracy: 95.67%, Validation Loss: 0.23752, Validation Accuracy: 91.52%\n",
      "Epoch 97, Training Loss: 0.15463, Training Accuracy: 95.71%, Validation Loss: 0.23152, Validation Accuracy: 91.27%\n",
      "Epoch 98, Training Loss: 0.15789, Training Accuracy: 95.59%, Validation Loss: 0.21001, Validation Accuracy: 91.74%\n",
      "Epoch 99, Training Loss: 0.15356, Training Accuracy: 95.88%, Validation Loss: 0.23388, Validation Accuracy: 91.56%\n",
      "Epoch 100, Training Loss: 0.14308, Training Accuracy: 95.88%, Validation Loss: 0.23752, Validation Accuracy: 90.74%\n",
      "Epoch 101, Training Loss: 0.15466, Training Accuracy: 95.86%, Validation Loss: 0.23752, Validation Accuracy: 90.56%\n",
      "Epoch 102, Training Loss: 0.14800, Training Accuracy: 96.09%, Validation Loss: 0.22804, Validation Accuracy: 91.64%\n",
      "Epoch 103, Training Loss: 0.15359, Training Accuracy: 96.20%, Validation Loss: 0.23697, Validation Accuracy: 91.91%\n",
      "Epoch 104, Training Loss: 0.15194, Training Accuracy: 95.97%, Validation Loss: 0.23443, Validation Accuracy: 90.86%\n",
      "Epoch 105, Training Loss: 0.13488, Training Accuracy: 96.18%, Validation Loss: 0.22471, Validation Accuracy: 90.11%\n",
      "Epoch 106, Training Loss: 0.14064, Training Accuracy: 96.09%, Validation Loss: 0.21402, Validation Accuracy: 92.13%\n",
      "Epoch 107, Training Loss: 0.14620, Training Accuracy: 96.40%, Validation Loss: 0.22913, Validation Accuracy: 91.30%\n",
      "Epoch 108, Training Loss: 0.13881, Training Accuracy: 96.47%, Validation Loss: 0.24483, Validation Accuracy: 89.93%\n",
      "Epoch 109, Training Loss: 0.14477, Training Accuracy: 96.56%, Validation Loss: 0.24200, Validation Accuracy: 90.69%\n",
      "Epoch 110, Training Loss: 0.14336, Training Accuracy: 96.66%, Validation Loss: 0.19813, Validation Accuracy: 91.93%\n",
      "Epoch 111, Training Loss: 0.14961, Training Accuracy: 96.58%, Validation Loss: 0.22135, Validation Accuracy: 91.71%\n",
      "Epoch 112, Training Loss: 0.14300, Training Accuracy: 96.65%, Validation Loss: 0.21892, Validation Accuracy: 92.13%\n",
      "Epoch 113, Training Loss: 0.13527, Training Accuracy: 96.79%, Validation Loss: 0.24753, Validation Accuracy: 90.86%\n",
      "Epoch 114, Training Loss: 0.14034, Training Accuracy: 96.65%, Validation Loss: 0.20541, Validation Accuracy: 93.03%\n",
      "Epoch 115, Training Loss: 0.13086, Training Accuracy: 96.97%, Validation Loss: 0.22671, Validation Accuracy: 91.56%\n",
      "Epoch 116, Training Loss: 0.12953, Training Accuracy: 97.01%, Validation Loss: 0.21000, Validation Accuracy: 91.37%\n",
      "Epoch 117, Training Loss: 0.14516, Training Accuracy: 96.97%, Validation Loss: 0.23600, Validation Accuracy: 89.84%\n",
      "Epoch 118, Training Loss: 0.14099, Training Accuracy: 97.12%, Validation Loss: 0.21225, Validation Accuracy: 92.32%\n",
      "Epoch 119, Training Loss: 0.14968, Training Accuracy: 96.94%, Validation Loss: 0.25130, Validation Accuracy: 91.62%\n",
      "Epoch 120, Training Loss: 0.14026, Training Accuracy: 97.09%, Validation Loss: 0.22896, Validation Accuracy: 92.13%\n",
      "Epoch 121, Training Loss: 0.14471, Training Accuracy: 97.15%, Validation Loss: 0.22832, Validation Accuracy: 91.44%\n",
      "Epoch 122, Training Loss: 0.14032, Training Accuracy: 97.14%, Validation Loss: 0.21892, Validation Accuracy: 91.17%\n",
      "Epoch 123, Training Loss: 0.14430, Training Accuracy: 96.92%, Validation Loss: 0.23673, Validation Accuracy: 91.13%\n",
      "Epoch 124, Training Loss: 0.12803, Training Accuracy: 97.29%, Validation Loss: 0.19896, Validation Accuracy: 92.98%\n",
      "Epoch 125, Training Loss: 0.14054, Training Accuracy: 97.06%, Validation Loss: 0.22706, Validation Accuracy: 91.89%\n",
      "Epoch 126, Training Loss: 0.13488, Training Accuracy: 97.40%, Validation Loss: 0.20878, Validation Accuracy: 92.05%\n",
      "Epoch 127, Training Loss: 0.13513, Training Accuracy: 97.47%, Validation Loss: 0.20121, Validation Accuracy: 92.76%\n",
      "Epoch 128, Training Loss: 0.13738, Training Accuracy: 97.41%, Validation Loss: 0.22729, Validation Accuracy: 91.23%\n",
      "Epoch 129, Training Loss: 0.13608, Training Accuracy: 97.53%, Validation Loss: 0.20997, Validation Accuracy: 92.07%\n",
      "Epoch 130, Training Loss: 0.12738, Training Accuracy: 97.57%, Validation Loss: 0.20525, Validation Accuracy: 92.23%\n",
      "Epoch 131, Training Loss: 0.12738, Training Accuracy: 97.45%, Validation Loss: 0.20920, Validation Accuracy: 91.81%\n",
      "Epoch 132, Training Loss: 0.12956, Training Accuracy: 97.50%, Validation Loss: 0.24769, Validation Accuracy: 91.23%\n",
      "Epoch 133, Training Loss: 0.12635, Training Accuracy: 97.68%, Validation Loss: 0.20374, Validation Accuracy: 92.54%\n",
      "Epoch 134, Training Loss: 0.11711, Training Accuracy: 97.81%, Validation Loss: 0.22262, Validation Accuracy: 92.23%\n",
      "Epoch 135, Training Loss: 0.12542, Training Accuracy: 97.71%, Validation Loss: 0.21120, Validation Accuracy: 91.52%\n",
      "Epoch 136, Training Loss: 0.12490, Training Accuracy: 97.61%, Validation Loss: 0.20875, Validation Accuracy: 92.05%\n",
      "Epoch 137, Training Loss: 0.12266, Training Accuracy: 97.62%, Validation Loss: 0.21807, Validation Accuracy: 91.71%\n",
      "Epoch 138, Training Loss: 0.12300, Training Accuracy: 97.67%, Validation Loss: 0.21128, Validation Accuracy: 91.95%\n",
      "Epoch 139, Training Loss: 0.12310, Training Accuracy: 97.92%, Validation Loss: 0.21277, Validation Accuracy: 92.05%\n",
      "Epoch 140, Training Loss: 0.12424, Training Accuracy: 97.81%, Validation Loss: 0.22052, Validation Accuracy: 91.89%\n",
      "Epoch 141, Training Loss: 0.12871, Training Accuracy: 97.74%, Validation Loss: 0.20797, Validation Accuracy: 92.23%\n",
      "Epoch 142, Training Loss: 0.12241, Training Accuracy: 97.94%, Validation Loss: 0.21047, Validation Accuracy: 92.54%\n",
      "Epoch 143, Training Loss: 0.12476, Training Accuracy: 97.94%, Validation Loss: 0.24254, Validation Accuracy: 91.98%\n"
     ]
    },
    {
     "name": "stdout",
     "output_type": "stream",
     "text": [
      "Epoch 144, Training Loss: 0.13134, Training Accuracy: 97.98%, Validation Loss: 0.19040, Validation Accuracy: 92.52%\n",
      "Epoch 145, Training Loss: 0.11262, Training Accuracy: 98.25%, Validation Loss: 0.20304, Validation Accuracy: 91.44%\n",
      "Epoch 146, Training Loss: 0.13168, Training Accuracy: 97.85%, Validation Loss: 0.22239, Validation Accuracy: 92.23%\n",
      "Epoch 147, Training Loss: 0.12615, Training Accuracy: 98.16%, Validation Loss: 0.22971, Validation Accuracy: 91.38%\n",
      "Epoch 148, Training Loss: 0.11898, Training Accuracy: 98.14%, Validation Loss: 0.22327, Validation Accuracy: 91.13%\n",
      "Epoch 149, Training Loss: 0.12783, Training Accuracy: 97.97%, Validation Loss: 0.20703, Validation Accuracy: 91.86%\n",
      "Epoch 150, Training Loss: 0.11686, Training Accuracy: 98.19%, Validation Loss: 0.23718, Validation Accuracy: 91.56%\n",
      "Epoch 151, Training Loss: 0.11942, Training Accuracy: 98.07%, Validation Loss: 0.21830, Validation Accuracy: 92.35%\n",
      "Epoch 152, Training Loss: 0.12527, Training Accuracy: 98.01%, Validation Loss: 0.21381, Validation Accuracy: 91.83%\n",
      "Epoch 153, Training Loss: 0.12207, Training Accuracy: 98.21%, Validation Loss: 0.22633, Validation Accuracy: 91.91%\n",
      "Epoch 154, Training Loss: 0.13790, Training Accuracy: 97.97%, Validation Loss: 0.24076, Validation Accuracy: 91.27%\n",
      "Epoch 155, Training Loss: 0.12081, Training Accuracy: 98.24%, Validation Loss: 0.21337, Validation Accuracy: 91.56%\n"
     ]
    }
   ],
   "source": [
    "save_model_path = './dog_vs_cat'\n",
    "\n",
    "print('Training...')\n",
    "with tf.Session() as sess:\n",
    "    #Initializing the variables\n",
    "    sess.run(tf.global_variables_initializer())\n",
    "    \n",
    "    # Training cycle\n",
    "    for epoch in range(epochs):\n",
    "        # Loop over all batches\n",
    "        train_batch_loss_total=0\n",
    "        train_batch_acc_total=0 \n",
    "        train_batch_count=0\n",
    "        for batch_start in range(0, train_feature.shape[0], batch_size):\n",
    "            batch_end = min(batch_start + batch_size, train_feature.shape[0])\n",
    "            feature_batch = train_feature[batch_start: batch_end]\n",
    "            label_batch = train_label[batch_start: batch_end]\n",
    "\n",
    "            sess.run(optimizer, feed_dict={\n",
    "                    x: feature_batch,\n",
    "                    y: label_batch,\n",
    "                    keep_prob: keep_probability\n",
    "                })\n",
    "            \n",
    "            train_batch_loss_total += sess.run(cost, feed_dict={\n",
    "                x: feature_batch,\n",
    "                y: label_batch,\n",
    "                keep_prob: 1.0\n",
    "                })\n",
    "            train_batch_acc_total += sess.run(accuracy, feed_dict={\n",
    "                x:feature_batch,\n",
    "                y:label_batch,\n",
    "                keep_prob: 1.0\n",
    "            })\n",
    "            train_batch_count += 1\n",
    "        train_loss=train_batch_loss_total/train_batch_count\n",
    "        train_acc=train_batch_acc_total/train_batch_count\n",
    "    \n",
    "    \n",
    "        val_batch_loss_total = 0\n",
    "        val_batch_acc_total = 0\n",
    "        val_batch_count = 0\n",
    "    \n",
    "        for val_batch_start in range(0, val_feature.shape[0], val_batch_size):\n",
    "            val_batch_end = min(val_batch_start + val_batch_size, val_feature.shape[0])\n",
    "            val_feature_batch = val_feature[val_batch_start:val_batch_end]\n",
    "            val_label_batch = val_label[val_batch_start:val_batch_end]\n",
    "        \n",
    "            val_batch_loss_total += sess.run(cost, feed_dict={\n",
    "                x: val_feature_batch,\n",
    "                y: val_label_batch,\n",
    "                keep_prob: 1.\n",
    "            })\n",
    "        \n",
    "            val_batch_acc_total += sess.run(accuracy, feed_dict={\n",
    "                x: val_feature_batch,\n",
    "                y: val_label_batch,\n",
    "                keep_prob: 1.\n",
    "            })\n",
    "            val_batch_count += 1\n",
    "      \n",
    "    \n",
    "        val_loss = val_batch_loss_total/val_batch_count\n",
    "        val_acc = val_batch_acc_total/val_batch_count\n",
    "        print('Epoch {:>2}, Training Loss: {:>3.5f}, Training Accuracy: {:.2f}%, Validation Loss: {:>3.5f}, Validation Accuracy: {:.2f}%'.format(epoch+1, train_loss, train_acc*100, val_loss, val_acc*100))\n",
    "    # Save model\n",
    "    saver = tf.train.Saver()\n",
    "    save_path = saver.save(sess, save_model_path)"
   ]
  },
  {
   "cell_type": "code",
   "execution_count": null,
   "metadata": {},
   "outputs": [],
   "source": []
  }
 ],
 "metadata": {
  "anaconda-cloud": {},
  "kernelspec": {
   "display_name": "Python 3",
   "language": "python",
   "name": "python3"
  },
  "language_info": {
   "codemirror_mode": {
    "name": "ipython",
    "version": 3
   },
   "file_extension": ".py",
   "mimetype": "text/x-python",
   "name": "python",
   "nbconvert_exporter": "python",
   "pygments_lexer": "ipython3",
   "version": "3.5.4"
  }
 },
 "nbformat": 4,
 "nbformat_minor": 1
}

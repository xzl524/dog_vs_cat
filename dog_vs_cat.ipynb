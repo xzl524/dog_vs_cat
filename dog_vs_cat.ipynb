{
 "cells": [
  {
   "cell_type": "markdown",
   "metadata": {},
   "source": [
    "#### If come back to this notebook or have to restart the notebook, start from Check Point. The preprocessed data has been saved to disk."
   ]
  },
  {
   "cell_type": "code",
   "execution_count": null,
   "metadata": {},
   "outputs": [],
   "source": [
    "%matplotlib inline\n",
    "import cv2\n",
    "import os\n",
    "import random\n",
    "import numpy as np\n",
    "from PIL import Image\n",
    "from IPython.display import display\n",
    "import matplotlib.pyplot as plt\n",
    "import tensorflow as tf\n",
    "from sklearn.preprocessing import LabelEncoder"
   ]
  },
  {
   "cell_type": "markdown",
   "metadata": {},
   "source": [
    "## Preparing the Data"
   ]
  },
  {
   "cell_type": "code",
   "execution_count": null,
   "metadata": {},
   "outputs": [],
   "source": [
    "TRAIN_DIR = 'input/train/'\n",
    "train_images = [TRAIN_DIR+i for i in os.listdir(TRAIN_DIR)]"
   ]
  },
  {
   "cell_type": "code",
   "execution_count": null,
   "metadata": {},
   "outputs": [],
   "source": [
    "# Explore the dataset\n",
    "image_id = 10000\n",
    "\n",
    "# Don't modify below\n",
    "image_example = cv2.imread(train_images[image_id])\n",
    "print(\"Stats of Dog_vs_Cat Training Dataset\")\n",
    "print(\"Total Images: {}\".format(len(train_images)))\n",
    "print(\"Dog:          {}\".format(len([i for i in train_images if 'dog' in i ])))\n",
    "print(\"Cat:          {}\".format(len([i for i in train_images if 'cat' in i ])))\n",
    "print(\"\")\n",
    "print(\"Example of Image {}\".format(image_id))\n",
    "print(\"Image - Shape: {}\".format(image_example.shape))\n",
    "print(\"Image - Min Value: {}, Max Value: {}\".format(image_example.min(), image_example.max()))\n",
    "print(\"Label - {}\".format('dog' if 'dog' in train_images[image_id] else 'cat'))\n",
    "display(Image.open(train_images[image_id]))"
   ]
  },
  {
   "cell_type": "code",
   "execution_count": null,
   "metadata": {},
   "outputs": [],
   "source": [
    "#Randomize Data\n",
    "random.shuffle(train_images)"
   ]
  },
  {
   "cell_type": "code",
   "execution_count": null,
   "metadata": {},
   "outputs": [],
   "source": [
    "# Resize images\n",
    "ROWS = 64 #Resized image row size\n",
    "COLS = 64 #Resized image columns size\n",
    "CHANNELS = 3 #RGB channels\n",
    "\n",
    "# Don't modify below\n",
    "feature = []\n",
    "for i, img in enumerate(train_images): \n",
    "    img = cv2.imread(img)\n",
    "    img = cv2.resize(img, dsize=(ROWS, COLS))\n",
    "    feature.append(img)\n",
    "feature = np.array(feature, dtype=np.uint8)"
   ]
  },
  {
   "cell_type": "code",
   "execution_count": null,
   "metadata": {},
   "outputs": [],
   "source": [
    "# Explore the resized image\n",
    "image_example_new = 10\n",
    "\n",
    "#Don't modify below\n",
    "print('Resized Image')\n",
    "display(Image.fromarray(feature[image_example_new]))\n",
    "print('')\n",
    "print('Original Image')\n",
    "display(Image.open(train_images[image_example_new]))"
   ]
  },
  {
   "cell_type": "code",
   "execution_count": null,
   "metadata": {},
   "outputs": [],
   "source": [
    "# Normalize features\n",
    "feature = (feature-np.min(feature))/(np.max(feature)-np.min(feature))"
   ]
  },
  {
   "cell_type": "code",
   "execution_count": null,
   "metadata": {},
   "outputs": [],
   "source": [
    "#One-hot encoding on the label\n",
    "label = [[0, 1] if 'cat' in i else [1, 0] for i in train_images]\n",
    "label = np.array(label, dtype=np.uint8)"
   ]
  },
  {
   "cell_type": "code",
   "execution_count": null,
   "metadata": {},
   "outputs": [],
   "source": [
    "import pickle\n",
    "with open('preprocess_image.p', 'wb') as f:\n",
    "    pickle.dump((feature,label), f)"
   ]
  },
  {
   "cell_type": "markdown",
   "metadata": {},
   "source": [
    "## Check Point"
   ]
  },
  {
   "cell_type": "markdown",
   "metadata": {},
   "source": [
    "If come back to this notebook or have to restart the notebook, start from here. The preprocessed data has been saved to disk."
   ]
  },
  {
   "cell_type": "code",
   "execution_count": 80,
   "metadata": {},
   "outputs": [],
   "source": [
    "import pickle\n",
    "import numpy as np\n",
    "import tensorflow as tf"
   ]
  },
  {
   "cell_type": "code",
   "execution_count": 2,
   "metadata": {},
   "outputs": [],
   "source": [
    "with open('preprocess_image.p', 'rb') as f:\n",
    "    feature, label = pickle.load(f)"
   ]
  },
  {
   "cell_type": "code",
   "execution_count": 3,
   "metadata": {},
   "outputs": [
    {
     "name": "stdout",
     "output_type": "stream",
     "text": [
      "Image - Shape: (64, 64, 3)\n"
     ]
    }
   ],
   "source": [
    "print(\"Image - Shape: {}\".format(feature.shape[1:]))"
   ]
  },
  {
   "cell_type": "code",
   "execution_count": 90,
   "metadata": {},
   "outputs": [
    {
     "name": "stderr",
     "output_type": "stream",
     "text": [
      "C:\\Users\\Zaoli\\Anaconda2\\envs\\tensorflow\\lib\\site-packages\\sklearn\\model_selection\\_split.py:2026: FutureWarning: From version 0.21, test_size will always complement train_size unless both are specified.\n",
      "  FutureWarning)\n"
     ]
    }
   ],
   "source": [
    "# Train test split to generate training set and validation set\n",
    "from sklearn.model_selection import train_test_split\n",
    "training_size = 0.96 # 90% of the data will be used as training, \n",
    "                    #and the remaining 10% will be used as validation set\n",
    "train_feature, val_feature, train_label, val_label=train_test_split(feature, label, train_size=training_size, random_state=42)"
   ]
  },
  {
   "cell_type": "code",
   "execution_count": 92,
   "metadata": {},
   "outputs": [],
   "source": [
    "def conv2d(x_tensor, conv_num_outputs, conv_ksize, conv_strides, conv_padding='SAME'):\n",
    "    \"\"\"\n",
    "    Apply convolution then max pooling to x_tensor\n",
    "    :param x_tensor: TensorFlow Tensor\n",
    "    :param conv_num_outputs: Number of outputs for the convolutional layer\n",
    "    :param conv_ksize: kernal size 2-D Tuple for the convolutional layer\n",
    "    :param conv_strides: Stride 2-D Tuple for convolution\n",
    "    :param pool_ksize: kernal size 2-D Tuple for pool\n",
    "    :param pool_strides: Stride 2-D Tuple for pool\n",
    "    :param conv_padding: 'SAME' or 'VALID'\n",
    "    :param pool_padding: 'SAME' or 'VALID\n",
    "    : return: A tensor that represents convolution and max pooling of x_tensor\n",
    "    \"\"\"\n",
    "    weight =  tf.Variable(tf.random_normal(conv_ksize+(x_tensor.shape[-1].value,)+(conv_num_outputs,),\n",
    "                                           stddev=0.05))\n",
    "    bias = tf.Variable(tf.zeros([conv_num_outputs]))\n",
    "    x = tf.nn.conv2d(x_tensor, weight, strides=(1,)+conv_strides+(1,), padding=conv_padding)\n",
    "    x = tf.nn.bias_add(x, bias)\n",
    "    x = tf.nn.relu(x)\n",
    "\n",
    "    return x "
   ]
  },
  {
   "cell_type": "code",
   "execution_count": 93,
   "metadata": {},
   "outputs": [],
   "source": [
    "def conv2d_maxpool(x_tensor, conv_num_outputs, conv_ksize, conv_strides, pool_ksize, pool_strides, conv_padding='SAME', pool_padding='SAME'):\n",
    "    \"\"\"\n",
    "    Apply convolution then max pooling to x_tensor\n",
    "    :param x_tensor: TensorFlow Tensor\n",
    "    :param conv_num_outputs: Number of outputs for the convolutional layer\n",
    "    :param conv_ksize: kernal size 2-D Tuple for the convolutional layer\n",
    "    :param conv_strides: Stride 2-D Tuple for convolution\n",
    "    :param pool_ksize: kernal size 2-D Tuple for pool\n",
    "    :param pool_strides: Stride 2-D Tuple for pool\n",
    "    :param conv_padding: 'SAME' or 'VALID'\n",
    "    :param pool_padding: 'SAME' or 'VALID\n",
    "    : return: A tensor that represents convolution and max pooling of x_tensor\n",
    "    \"\"\"\n",
    "    weight =  tf.Variable(tf.random_normal(conv_ksize+(x_tensor.shape[-1].value,)+(conv_num_outputs,),\n",
    "                                           stddev=0.05))\n",
    "    bias = tf.Variable(tf.zeros([conv_num_outputs]))\n",
    "    x = tf.nn.conv2d(x_tensor, weight, strides=(1,)+conv_strides+(1,), padding=conv_padding)\n",
    "    x = tf.nn.bias_add(x, bias)\n",
    "    x = tf.nn.relu(x)\n",
    "    x = tf.nn.max_pool(x, ksize=((1,)+ pool_ksize + (1,)),\n",
    "                      strides=((1,)+ pool_strides + (1,)),\n",
    "                      padding=pool_padding)\n",
    "    return x "
   ]
  },
  {
   "cell_type": "code",
   "execution_count": 94,
   "metadata": {},
   "outputs": [],
   "source": [
    "def flatten(x_tensor):\n",
    "    \"\"\"\n",
    "    Flatten x_tensor to (Batch Size, Flattened Image Size)\n",
    "    : x_tensor: A tensor of size (Batch Size, ...), where ... are the image dimensions.\n",
    "    : return: A tensor of size (Batch Size, Flattened Image Size).\n",
    "    \"\"\"\n",
    "    flatten_x = tf.reshape(x_tensor, \n",
    "                           shape=[tf.shape(x_tensor)[0], x_tensor.shape[1].value*x_tensor.shape[2].value*x_tensor.shape[3].value])\n",
    "    return flatten_x"
   ]
  },
  {
   "cell_type": "code",
   "execution_count": 95,
   "metadata": {},
   "outputs": [],
   "source": [
    "def fully_conn(x_tensor, num_outputs):\n",
    "    \"\"\"\n",
    "    Apply a fully connected layer to x_tensor using weight and bias\n",
    "    : x_tensor: A 2-D tensor where the first dimension is batch size.\n",
    "    : num_outputs: The number of output that the new tensor should be.\n",
    "    : return: A 2-D tensor where the second dimension is num_outputs.\n",
    "    \"\"\"\n",
    "    weight = tf.Variable(tf.truncated_normal((x_tensor.shape[-1].value, num_outputs),\n",
    "                                            stddev = 0.05))\n",
    "    bias = tf.Variable(tf.zeros([num_outputs]))\n",
    "    fc_x = tf.add(tf.matmul(x_tensor, weight), bias)\n",
    "    fc_x = tf.nn.relu(fc_x)\n",
    "    \n",
    "    return fc_x"
   ]
  },
  {
   "cell_type": "code",
   "execution_count": 96,
   "metadata": {},
   "outputs": [],
   "source": [
    "def output(x_tensor, num_outputs):\n",
    "    \"\"\"\n",
    "    Apply a output layer to x_tensor using weight and bias\n",
    "    : x_tensor: A 2-D tensor where the first dimension is batch size.\n",
    "    : num_outputs: The number of output that the new tensor should be.\n",
    "    : return: A 2-D tensor where the second dimension is num_outputs.\n",
    "    \"\"\"\n",
    "    # TODO: Implement Function\n",
    "    weight = tf.Variable(tf.truncated_normal([x_tensor.shape[-1].value,num_outputs],\n",
    "                                            stddev=0.05))\n",
    "    bias = tf.Variable(tf.zeros([num_outputs]))\n",
    "    return tf.add(tf.matmul(x_tensor, weight), bias)"
   ]
  },
  {
   "cell_type": "code",
   "execution_count": 97,
   "metadata": {},
   "outputs": [],
   "source": [
    "def conv_net(x, keep_prob):\n",
    "    \"\"\"\n",
    "    Create a convolutional neural network model\n",
    "    : x: Placeholder tensor that holds image data.\n",
    "    : keep_prob: Placeholder tensor that hold dropout keep probability.\n",
    "    : return: Tensor that represents logits\n",
    "    \"\"\"\n",
    "    # Function Definition from Above:\n",
    "    #    conv2d_maxpool(x_tensor, conv_num_outputs, conv_ksize, conv_strides, pool_ksize, pool_strides, conv_padding, pool_padding)\n",
    "    conv = conv2d_maxpool(x, 96, (5, 5), (4, 4), (3, 3), (2, 2), conv_padding='VALID', pool_padding='VALID')\n",
    "    conv = tf.nn.dropout(conv, keep_prob)\n",
    "    conv = conv2d_maxpool(conv, 256, (5, 5), (1, 1), (3, 3), (2, 2), conv_padding='SAME', pool_padding='VALID')\n",
    "    conv = tf.nn.dropout(conv, keep_prob)\n",
    "    conv = conv2d(conv, 384, (3, 3), (1, 1), conv_padding='SAME')\n",
    "    conv = tf.nn.dropout(conv, keep_prob)\n",
    "    conv = conv2d(conv, 384, (3, 3), (1, 1), conv_padding='SAME')\n",
    "    conv = tf.nn.dropout(conv, keep_prob)\n",
    "    conv = conv2d_maxpool(conv, 256, (3, 3), (1, 1), (3, 3), (2, 2), conv_padding='SAME', pool_padding='VALID')\n",
    "    conv = tf.nn.dropout(conv, keep_prob)\n",
    "    # Function Definition from Above:\n",
    "    #   flatten(x_tensor)\n",
    "    flt = flatten(conv)\n",
    "    ft = tf.nn.dropout(flt, keep_prob)\n",
    "\n",
    "    # Function Definition from Above:\n",
    "    #   fully_conn(x_tensor, num_outputs)\n",
    "    fc = fully_conn(flt, 4096)\n",
    "    fc = tf.nn.dropout(fc, keep_prob)\n",
    "    fc = fully_conn(flt, 4096)\n",
    "    fc = tf.nn.dropout(fc, keep_prob)\n",
    "\n",
    "    # Function Definition from Above:\n",
    "    #   output(x_tensor, num_outputs)\n",
    "    \n",
    "    # TODO: return output\n",
    "    return output(fc, 2)"
   ]
  },
  {
   "cell_type": "code",
   "execution_count": 98,
   "metadata": {},
   "outputs": [],
   "source": [
    "##############################\n",
    "## Build the Neural Network ##\n",
    "##############################\n",
    "\n",
    "# Remove previous weights, bias, inputs, etc..\n",
    "import tensorflow as tf\n",
    "\n",
    "tf.reset_default_graph()\n",
    "\n",
    "# Inputs\n",
    "ROWS = feature.shape[1]\n",
    "COLS = feature.shape[2] #Resized image columns size\n",
    "CHANNELS = feature.shape[3] #RGB channels\n",
    "image_shape = (ROWS, COLS, CHANNELS)\n",
    "n_classes = label.shape[1]\n",
    "x = tf.placeholder(tf.float32, shape = (None, image_shape[0], image_shape[1], image_shape[2]), name='x')\n",
    "y = tf.placeholder(tf.float32, shape = (None, n_classes), name='y')\n",
    "keep_prob = tf.placeholder(tf.float32, name='keep_prob')\n",
    "\n",
    "# Model\n",
    "logits = conv_net(x, keep_prob)\n",
    "\n",
    "# Name logits Tensor, so that is can be loaded from disk after training\n",
    "logits = tf.identity(logits, name='logits')\n",
    "\n",
    "# Loss and Optimizer\n",
    "cost = tf.reduce_mean(tf.nn.softmax_cross_entropy_with_logits(logits=logits, labels=y), name='cost')\n",
    "optimizer = tf.train.AdamOptimizer().minimize(cost)\n",
    "\n",
    "# Accuracy\n",
    "correct_pred = tf.equal(tf.argmax(logits, 1), tf.argmax(y, 1))\n",
    "accuracy = tf.reduce_mean(tf.cast(correct_pred, tf.float32), name='accuracy')"
   ]
  },
  {
   "cell_type": "code",
   "execution_count": 114,
   "metadata": {},
   "outputs": [],
   "source": [
    "# Tune Parameters\n",
    "epochs = 500\n",
    "batch_size = 4096\n",
    "val_batch_size = 128\n",
    "keep_probability = 0.7"
   ]
  },
  {
   "cell_type": "code",
   "execution_count": 115,
   "metadata": {},
   "outputs": [
    {
     "name": "stdout",
     "output_type": "stream",
     "text": [
      "Training...\n",
      "Epoch  1, Training Loss: 9.70682, Training Accuracy: 50.00%, Validation Loss: 0.69536, Validation Accuracy: 50.86%\n",
      "Epoch  2, Training Loss: 0.73384, Training Accuracy: 49.96%, Validation Loss: 0.71546, Validation Accuracy: 50.86%\n",
      "Epoch  3, Training Loss: 0.70098, Training Accuracy: 49.96%, Validation Loss: 0.69433, Validation Accuracy: 50.86%\n",
      "Epoch  4, Training Loss: 0.69342, Training Accuracy: 49.66%, Validation Loss: 0.69324, Validation Accuracy: 49.14%\n",
      "Epoch  5, Training Loss: 0.69369, Training Accuracy: 50.04%, Validation Loss: 0.69461, Validation Accuracy: 49.14%\n",
      "Epoch  6, Training Loss: 0.69378, Training Accuracy: 50.04%, Validation Loss: 0.69393, Validation Accuracy: 49.14%\n",
      "Epoch  7, Training Loss: 0.69326, Training Accuracy: 50.04%, Validation Loss: 0.69342, Validation Accuracy: 49.14%\n",
      "Epoch  8, Training Loss: 0.69311, Training Accuracy: 50.04%, Validation Loss: 0.69317, Validation Accuracy: 49.14%\n",
      "Epoch  9, Training Loss: 0.69297, Training Accuracy: 50.04%, Validation Loss: 0.69300, Validation Accuracy: 49.14%\n",
      "Epoch 10, Training Loss: 0.69256, Training Accuracy: 50.04%, Validation Loss: 0.69247, Validation Accuracy: 49.14%\n",
      "Epoch 11, Training Loss: 0.69227, Training Accuracy: 50.04%, Validation Loss: 0.69249, Validation Accuracy: 49.14%\n",
      "Epoch 12, Training Loss: 0.69471, Training Accuracy: 50.05%, Validation Loss: 0.69666, Validation Accuracy: 49.14%\n",
      "Epoch 13, Training Loss: 0.70159, Training Accuracy: 50.07%, Validation Loss: 0.71143, Validation Accuracy: 49.14%\n",
      "Epoch 14, Training Loss: 0.71158, Training Accuracy: 50.13%, Validation Loss: 0.72221, Validation Accuracy: 49.14%\n",
      "Epoch 15, Training Loss: 0.72335, Training Accuracy: 50.52%, Validation Loss: 0.74602, Validation Accuracy: 49.34%\n",
      "Epoch 16, Training Loss: 0.72514, Training Accuracy: 51.18%, Validation Loss: 0.75862, Validation Accuracy: 49.73%\n",
      "Epoch 17, Training Loss: 0.71096, Training Accuracy: 51.92%, Validation Loss: 0.70161, Validation Accuracy: 51.13%\n",
      "Epoch 18, Training Loss: 0.70414, Training Accuracy: 52.54%, Validation Loss: 0.73208, Validation Accuracy: 49.94%\n",
      "Epoch 19, Training Loss: 0.70516, Training Accuracy: 53.38%, Validation Loss: 0.70804, Validation Accuracy: 51.96%\n",
      "Epoch 20, Training Loss: 0.69767, Training Accuracy: 53.77%, Validation Loss: 0.71950, Validation Accuracy: 50.86%\n",
      "Epoch 21, Training Loss: 0.68736, Training Accuracy: 54.75%, Validation Loss: 0.71290, Validation Accuracy: 51.94%\n",
      "Epoch 22, Training Loss: 0.68397, Training Accuracy: 55.18%, Validation Loss: 0.69572, Validation Accuracy: 53.35%\n",
      "Epoch 23, Training Loss: 0.67820, Training Accuracy: 55.87%, Validation Loss: 0.70846, Validation Accuracy: 52.96%\n",
      "Epoch 24, Training Loss: 0.67233, Training Accuracy: 57.20%, Validation Loss: 0.70442, Validation Accuracy: 53.35%\n",
      "Epoch 25, Training Loss: 0.66092, Training Accuracy: 58.07%, Validation Loss: 0.66657, Validation Accuracy: 57.20%\n",
      "Epoch 26, Training Loss: 0.66238, Training Accuracy: 58.17%, Validation Loss: 0.68763, Validation Accuracy: 55.03%\n",
      "Epoch 27, Training Loss: 0.65572, Training Accuracy: 59.33%, Validation Loss: 0.69117, Validation Accuracy: 55.13%\n",
      "Epoch 28, Training Loss: 0.64959, Training Accuracy: 60.15%, Validation Loss: 0.67580, Validation Accuracy: 57.50%\n",
      "Epoch 29, Training Loss: 0.64111, Training Accuracy: 61.10%, Validation Loss: 0.65405, Validation Accuracy: 59.82%\n",
      "Epoch 30, Training Loss: 0.63326, Training Accuracy: 62.06%, Validation Loss: 0.65493, Validation Accuracy: 59.58%\n",
      "Epoch 31, Training Loss: 0.62381, Training Accuracy: 63.10%, Validation Loss: 0.65733, Validation Accuracy: 59.13%\n",
      "Epoch 32, Training Loss: 0.61547, Training Accuracy: 64.13%, Validation Loss: 0.63687, Validation Accuracy: 61.40%\n",
      "Epoch 33, Training Loss: 0.61490, Training Accuracy: 64.29%, Validation Loss: 0.62108, Validation Accuracy: 63.62%\n",
      "Epoch 34, Training Loss: 0.60789, Training Accuracy: 64.95%, Validation Loss: 0.66123, Validation Accuracy: 59.99%\n",
      "Epoch 35, Training Loss: 0.59459, Training Accuracy: 66.57%, Validation Loss: 0.63955, Validation Accuracy: 61.52%\n",
      "Epoch 36, Training Loss: 0.58547, Training Accuracy: 67.64%, Validation Loss: 0.61322, Validation Accuracy: 63.89%\n",
      "Epoch 37, Training Loss: 0.57810, Training Accuracy: 68.38%, Validation Loss: 0.61119, Validation Accuracy: 64.36%\n",
      "Epoch 38, Training Loss: 0.56945, Training Accuracy: 69.20%, Validation Loss: 0.61040, Validation Accuracy: 64.55%\n",
      "Epoch 39, Training Loss: 0.56352, Training Accuracy: 69.72%, Validation Loss: 0.61200, Validation Accuracy: 64.43%\n",
      "Epoch 40, Training Loss: 0.55928, Training Accuracy: 70.44%, Validation Loss: 0.57773, Validation Accuracy: 68.57%\n",
      "Epoch 41, Training Loss: 0.55266, Training Accuracy: 70.93%, Validation Loss: 0.56936, Validation Accuracy: 69.35%\n",
      "Epoch 42, Training Loss: 0.54600, Training Accuracy: 71.36%, Validation Loss: 0.59219, Validation Accuracy: 67.82%\n",
      "Epoch 43, Training Loss: 0.53405, Training Accuracy: 72.41%, Validation Loss: 0.59542, Validation Accuracy: 66.96%\n",
      "Epoch 44, Training Loss: 0.53237, Training Accuracy: 72.89%, Validation Loss: 0.59765, Validation Accuracy: 67.16%\n",
      "Epoch 45, Training Loss: 0.52451, Training Accuracy: 73.78%, Validation Loss: 0.55071, Validation Accuracy: 70.18%\n",
      "Epoch 46, Training Loss: 0.52456, Training Accuracy: 73.45%, Validation Loss: 0.55318, Validation Accuracy: 70.57%\n",
      "Epoch 47, Training Loss: 0.51172, Training Accuracy: 74.26%, Validation Loss: 0.54881, Validation Accuracy: 71.23%\n",
      "Epoch 48, Training Loss: 0.50091, Training Accuracy: 75.26%, Validation Loss: 0.53885, Validation Accuracy: 71.35%\n",
      "Epoch 49, Training Loss: 0.50454, Training Accuracy: 74.91%, Validation Loss: 0.54359, Validation Accuracy: 70.79%\n",
      "Epoch 50, Training Loss: 0.49276, Training Accuracy: 75.92%, Validation Loss: 0.53397, Validation Accuracy: 72.21%\n",
      "Epoch 51, Training Loss: 0.48894, Training Accuracy: 76.05%, Validation Loss: 0.52979, Validation Accuracy: 71.76%\n",
      "Epoch 52, Training Loss: 0.48502, Training Accuracy: 76.35%, Validation Loss: 0.52190, Validation Accuracy: 73.42%\n",
      "Epoch 53, Training Loss: 0.48176, Training Accuracy: 76.48%, Validation Loss: 0.52803, Validation Accuracy: 72.01%\n",
      "Epoch 54, Training Loss: 0.47861, Training Accuracy: 76.59%, Validation Loss: 0.52461, Validation Accuracy: 72.89%\n",
      "Epoch 55, Training Loss: 0.46900, Training Accuracy: 77.38%, Validation Loss: 0.52472, Validation Accuracy: 72.65%\n",
      "Epoch 56, Training Loss: 0.45910, Training Accuracy: 77.98%, Validation Loss: 0.53296, Validation Accuracy: 73.01%\n",
      "Epoch 57, Training Loss: 0.45318, Training Accuracy: 78.23%, Validation Loss: 0.52810, Validation Accuracy: 72.30%\n",
      "Epoch 58, Training Loss: 0.44432, Training Accuracy: 78.98%, Validation Loss: 0.50305, Validation Accuracy: 73.48%\n",
      "Epoch 59, Training Loss: 0.44717, Training Accuracy: 78.76%, Validation Loss: 0.52735, Validation Accuracy: 72.23%\n",
      "Epoch 60, Training Loss: 0.44285, Training Accuracy: 79.14%, Validation Loss: 0.51608, Validation Accuracy: 73.60%\n",
      "Epoch 61, Training Loss: 0.43707, Training Accuracy: 79.54%, Validation Loss: 0.50022, Validation Accuracy: 74.62%\n",
      "Epoch 62, Training Loss: 0.43179, Training Accuracy: 79.74%, Validation Loss: 0.49698, Validation Accuracy: 74.50%\n",
      "Epoch 63, Training Loss: 0.43123, Training Accuracy: 79.83%, Validation Loss: 0.48691, Validation Accuracy: 75.15%\n",
      "Epoch 64, Training Loss: 0.42216, Training Accuracy: 80.23%, Validation Loss: 0.49373, Validation Accuracy: 74.89%\n",
      "Epoch 65, Training Loss: 0.41424, Training Accuracy: 80.69%, Validation Loss: 0.48381, Validation Accuracy: 75.38%\n",
      "Epoch 66, Training Loss: 0.40744, Training Accuracy: 81.33%, Validation Loss: 0.48899, Validation Accuracy: 75.20%\n",
      "Epoch 67, Training Loss: 0.39964, Training Accuracy: 81.71%, Validation Loss: 0.49008, Validation Accuracy: 75.69%\n",
      "Epoch 68, Training Loss: 0.39439, Training Accuracy: 82.23%, Validation Loss: 0.47586, Validation Accuracy: 75.62%\n",
      "Epoch 69, Training Loss: 0.38818, Training Accuracy: 82.36%, Validation Loss: 0.47972, Validation Accuracy: 76.67%\n",
      "Epoch 70, Training Loss: 0.38511, Training Accuracy: 82.70%, Validation Loss: 0.47577, Validation Accuracy: 76.49%\n",
      "Epoch 71, Training Loss: 0.37834, Training Accuracy: 83.08%, Validation Loss: 0.46899, Validation Accuracy: 76.83%\n",
      "Epoch 72, Training Loss: 0.37634, Training Accuracy: 83.01%, Validation Loss: 0.47905, Validation Accuracy: 76.79%\n"
     ]
    },
    {
     "name": "stdout",
     "output_type": "stream",
     "text": [
      "Epoch 73, Training Loss: 0.36892, Training Accuracy: 83.53%, Validation Loss: 0.47850, Validation Accuracy: 76.01%\n",
      "Epoch 74, Training Loss: 0.36336, Training Accuracy: 83.60%, Validation Loss: 0.48056, Validation Accuracy: 76.40%\n",
      "Epoch 75, Training Loss: 0.35683, Training Accuracy: 84.16%, Validation Loss: 0.49023, Validation Accuracy: 76.49%\n",
      "Epoch 76, Training Loss: 0.34786, Training Accuracy: 85.03%, Validation Loss: 0.46659, Validation Accuracy: 76.93%\n",
      "Epoch 77, Training Loss: 0.34985, Training Accuracy: 84.82%, Validation Loss: 0.45924, Validation Accuracy: 78.05%\n",
      "Epoch 78, Training Loss: 0.34529, Training Accuracy: 85.25%, Validation Loss: 0.46186, Validation Accuracy: 78.39%\n",
      "Epoch 79, Training Loss: 0.33075, Training Accuracy: 85.78%, Validation Loss: 0.46709, Validation Accuracy: 77.40%\n",
      "Epoch 80, Training Loss: 0.33836, Training Accuracy: 85.10%, Validation Loss: 0.49437, Validation Accuracy: 76.19%\n",
      "Epoch 81, Training Loss: 0.32542, Training Accuracy: 86.10%, Validation Loss: 0.47056, Validation Accuracy: 77.55%\n",
      "Epoch 82, Training Loss: 0.32414, Training Accuracy: 86.20%, Validation Loss: 0.45354, Validation Accuracy: 79.02%\n",
      "Epoch 83, Training Loss: 0.31620, Training Accuracy: 86.62%, Validation Loss: 0.44708, Validation Accuracy: 80.04%\n",
      "Epoch 84, Training Loss: 0.31170, Training Accuracy: 86.87%, Validation Loss: 0.45051, Validation Accuracy: 78.68%\n",
      "Epoch 85, Training Loss: 0.30330, Training Accuracy: 87.34%, Validation Loss: 0.45240, Validation Accuracy: 79.43%\n",
      "Epoch 86, Training Loss: 0.29927, Training Accuracy: 87.42%, Validation Loss: 0.46137, Validation Accuracy: 78.70%\n",
      "Epoch 87, Training Loss: 0.29271, Training Accuracy: 87.83%, Validation Loss: 0.44546, Validation Accuracy: 79.68%\n",
      "Epoch 88, Training Loss: 0.29055, Training Accuracy: 88.01%, Validation Loss: 0.45276, Validation Accuracy: 78.97%\n",
      "Epoch 89, Training Loss: 0.28057, Training Accuracy: 88.54%, Validation Loss: 0.45040, Validation Accuracy: 78.92%\n",
      "Epoch 90, Training Loss: 0.27243, Training Accuracy: 88.97%, Validation Loss: 0.45110, Validation Accuracy: 78.49%\n",
      "Epoch 91, Training Loss: 0.27000, Training Accuracy: 88.95%, Validation Loss: 0.46146, Validation Accuracy: 77.66%\n",
      "Epoch 92, Training Loss: 0.26103, Training Accuracy: 89.64%, Validation Loss: 0.45390, Validation Accuracy: 78.09%\n",
      "Epoch 93, Training Loss: 0.25601, Training Accuracy: 89.85%, Validation Loss: 0.44899, Validation Accuracy: 79.09%\n",
      "Epoch 94, Training Loss: 0.25126, Training Accuracy: 90.28%, Validation Loss: 0.44617, Validation Accuracy: 79.91%\n",
      "Epoch 95, Training Loss: 0.25308, Training Accuracy: 89.92%, Validation Loss: 0.46696, Validation Accuracy: 78.09%\n",
      "Epoch 96, Training Loss: 0.24200, Training Accuracy: 90.56%, Validation Loss: 0.44461, Validation Accuracy: 79.76%\n",
      "Epoch 97, Training Loss: 0.23688, Training Accuracy: 90.80%, Validation Loss: 0.45753, Validation Accuracy: 78.41%\n",
      "Epoch 98, Training Loss: 0.23191, Training Accuracy: 90.87%, Validation Loss: 0.45299, Validation Accuracy: 79.80%\n",
      "Epoch 99, Training Loss: 0.23304, Training Accuracy: 91.13%, Validation Loss: 0.44558, Validation Accuracy: 79.39%\n",
      "Epoch 100, Training Loss: 0.22595, Training Accuracy: 91.45%, Validation Loss: 0.46776, Validation Accuracy: 78.58%\n",
      "Epoch 101, Training Loss: 0.22364, Training Accuracy: 91.40%, Validation Loss: 0.43701, Validation Accuracy: 79.88%\n",
      "Epoch 102, Training Loss: 0.22468, Training Accuracy: 91.57%, Validation Loss: 0.44863, Validation Accuracy: 79.58%\n",
      "Epoch 103, Training Loss: 0.21627, Training Accuracy: 91.95%, Validation Loss: 0.44796, Validation Accuracy: 80.37%\n",
      "Epoch 104, Training Loss: 0.21309, Training Accuracy: 92.09%, Validation Loss: 0.43894, Validation Accuracy: 79.85%\n",
      "Epoch 105, Training Loss: 0.20896, Training Accuracy: 92.11%, Validation Loss: 0.45251, Validation Accuracy: 80.12%\n"
     ]
    },
    {
     "ename": "KeyboardInterrupt",
     "evalue": "",
     "output_type": "error",
     "traceback": [
      "\u001b[1;31m---------------------------------------------------------------------------\u001b[0m",
      "\u001b[1;31mKeyboardInterrupt\u001b[0m                         Traceback (most recent call last)",
      "\u001b[1;32m<ipython-input-115-4edb119f4d28>\u001b[0m in \u001b[0;36m<module>\u001b[1;34m()\u001b[0m\n\u001b[0;32m     20\u001b[0m                     \u001b[0mx\u001b[0m\u001b[1;33m:\u001b[0m \u001b[0mfeature_batch\u001b[0m\u001b[1;33m,\u001b[0m\u001b[1;33m\u001b[0m\u001b[0m\n\u001b[0;32m     21\u001b[0m                     \u001b[0my\u001b[0m\u001b[1;33m:\u001b[0m \u001b[0mlabel_batch\u001b[0m\u001b[1;33m,\u001b[0m\u001b[1;33m\u001b[0m\u001b[0m\n\u001b[1;32m---> 22\u001b[1;33m                     \u001b[0mkeep_prob\u001b[0m\u001b[1;33m:\u001b[0m \u001b[0mkeep_probability\u001b[0m\u001b[1;33m\u001b[0m\u001b[0m\n\u001b[0m\u001b[0;32m     23\u001b[0m                 })\n\u001b[0;32m     24\u001b[0m \u001b[1;33m\u001b[0m\u001b[0m\n",
      "\u001b[1;32m~\\Anaconda2\\envs\\tensorflow\\lib\\site-packages\\tensorflow\\python\\client\\session.py\u001b[0m in \u001b[0;36mrun\u001b[1;34m(self, fetches, feed_dict, options, run_metadata)\u001b[0m\n\u001b[0;32m    887\u001b[0m     \u001b[1;32mtry\u001b[0m\u001b[1;33m:\u001b[0m\u001b[1;33m\u001b[0m\u001b[0m\n\u001b[0;32m    888\u001b[0m       result = self._run(None, fetches, feed_dict, options_ptr,\n\u001b[1;32m--> 889\u001b[1;33m                          run_metadata_ptr)\n\u001b[0m\u001b[0;32m    890\u001b[0m       \u001b[1;32mif\u001b[0m \u001b[0mrun_metadata\u001b[0m\u001b[1;33m:\u001b[0m\u001b[1;33m\u001b[0m\u001b[0m\n\u001b[0;32m    891\u001b[0m         \u001b[0mproto_data\u001b[0m \u001b[1;33m=\u001b[0m \u001b[0mtf_session\u001b[0m\u001b[1;33m.\u001b[0m\u001b[0mTF_GetBuffer\u001b[0m\u001b[1;33m(\u001b[0m\u001b[0mrun_metadata_ptr\u001b[0m\u001b[1;33m)\u001b[0m\u001b[1;33m\u001b[0m\u001b[0m\n",
      "\u001b[1;32m~\\Anaconda2\\envs\\tensorflow\\lib\\site-packages\\tensorflow\\python\\client\\session.py\u001b[0m in \u001b[0;36m_run\u001b[1;34m(self, handle, fetches, feed_dict, options, run_metadata)\u001b[0m\n\u001b[0;32m   1118\u001b[0m     \u001b[1;32mif\u001b[0m \u001b[0mfinal_fetches\u001b[0m \u001b[1;32mor\u001b[0m \u001b[0mfinal_targets\u001b[0m \u001b[1;32mor\u001b[0m \u001b[1;33m(\u001b[0m\u001b[0mhandle\u001b[0m \u001b[1;32mand\u001b[0m \u001b[0mfeed_dict_tensor\u001b[0m\u001b[1;33m)\u001b[0m\u001b[1;33m:\u001b[0m\u001b[1;33m\u001b[0m\u001b[0m\n\u001b[0;32m   1119\u001b[0m       results = self._do_run(handle, final_targets, final_fetches,\n\u001b[1;32m-> 1120\u001b[1;33m                              feed_dict_tensor, options, run_metadata)\n\u001b[0m\u001b[0;32m   1121\u001b[0m     \u001b[1;32melse\u001b[0m\u001b[1;33m:\u001b[0m\u001b[1;33m\u001b[0m\u001b[0m\n\u001b[0;32m   1122\u001b[0m       \u001b[0mresults\u001b[0m \u001b[1;33m=\u001b[0m \u001b[1;33m[\u001b[0m\u001b[1;33m]\u001b[0m\u001b[1;33m\u001b[0m\u001b[0m\n",
      "\u001b[1;32m~\\Anaconda2\\envs\\tensorflow\\lib\\site-packages\\tensorflow\\python\\client\\session.py\u001b[0m in \u001b[0;36m_do_run\u001b[1;34m(self, handle, target_list, fetch_list, feed_dict, options, run_metadata)\u001b[0m\n\u001b[0;32m   1315\u001b[0m     \u001b[1;32mif\u001b[0m \u001b[0mhandle\u001b[0m \u001b[1;32mis\u001b[0m \u001b[1;32mNone\u001b[0m\u001b[1;33m:\u001b[0m\u001b[1;33m\u001b[0m\u001b[0m\n\u001b[0;32m   1316\u001b[0m       return self._do_call(_run_fn, self._session, feeds, fetches, targets,\n\u001b[1;32m-> 1317\u001b[1;33m                            options, run_metadata)\n\u001b[0m\u001b[0;32m   1318\u001b[0m     \u001b[1;32melse\u001b[0m\u001b[1;33m:\u001b[0m\u001b[1;33m\u001b[0m\u001b[0m\n\u001b[0;32m   1319\u001b[0m       \u001b[1;32mreturn\u001b[0m \u001b[0mself\u001b[0m\u001b[1;33m.\u001b[0m\u001b[0m_do_call\u001b[0m\u001b[1;33m(\u001b[0m\u001b[0m_prun_fn\u001b[0m\u001b[1;33m,\u001b[0m \u001b[0mself\u001b[0m\u001b[1;33m.\u001b[0m\u001b[0m_session\u001b[0m\u001b[1;33m,\u001b[0m \u001b[0mhandle\u001b[0m\u001b[1;33m,\u001b[0m \u001b[0mfeeds\u001b[0m\u001b[1;33m,\u001b[0m \u001b[0mfetches\u001b[0m\u001b[1;33m)\u001b[0m\u001b[1;33m\u001b[0m\u001b[0m\n",
      "\u001b[1;32m~\\Anaconda2\\envs\\tensorflow\\lib\\site-packages\\tensorflow\\python\\client\\session.py\u001b[0m in \u001b[0;36m_do_call\u001b[1;34m(self, fn, *args)\u001b[0m\n\u001b[0;32m   1321\u001b[0m   \u001b[1;32mdef\u001b[0m \u001b[0m_do_call\u001b[0m\u001b[1;33m(\u001b[0m\u001b[0mself\u001b[0m\u001b[1;33m,\u001b[0m \u001b[0mfn\u001b[0m\u001b[1;33m,\u001b[0m \u001b[1;33m*\u001b[0m\u001b[0margs\u001b[0m\u001b[1;33m)\u001b[0m\u001b[1;33m:\u001b[0m\u001b[1;33m\u001b[0m\u001b[0m\n\u001b[0;32m   1322\u001b[0m     \u001b[1;32mtry\u001b[0m\u001b[1;33m:\u001b[0m\u001b[1;33m\u001b[0m\u001b[0m\n\u001b[1;32m-> 1323\u001b[1;33m       \u001b[1;32mreturn\u001b[0m \u001b[0mfn\u001b[0m\u001b[1;33m(\u001b[0m\u001b[1;33m*\u001b[0m\u001b[0margs\u001b[0m\u001b[1;33m)\u001b[0m\u001b[1;33m\u001b[0m\u001b[0m\n\u001b[0m\u001b[0;32m   1324\u001b[0m     \u001b[1;32mexcept\u001b[0m \u001b[0merrors\u001b[0m\u001b[1;33m.\u001b[0m\u001b[0mOpError\u001b[0m \u001b[1;32mas\u001b[0m \u001b[0me\u001b[0m\u001b[1;33m:\u001b[0m\u001b[1;33m\u001b[0m\u001b[0m\n\u001b[0;32m   1325\u001b[0m       \u001b[0mmessage\u001b[0m \u001b[1;33m=\u001b[0m \u001b[0mcompat\u001b[0m\u001b[1;33m.\u001b[0m\u001b[0mas_text\u001b[0m\u001b[1;33m(\u001b[0m\u001b[0me\u001b[0m\u001b[1;33m.\u001b[0m\u001b[0mmessage\u001b[0m\u001b[1;33m)\u001b[0m\u001b[1;33m\u001b[0m\u001b[0m\n",
      "\u001b[1;32m~\\Anaconda2\\envs\\tensorflow\\lib\\site-packages\\tensorflow\\python\\client\\session.py\u001b[0m in \u001b[0;36m_run_fn\u001b[1;34m(session, feed_dict, fetch_list, target_list, options, run_metadata)\u001b[0m\n\u001b[0;32m   1300\u001b[0m           return tf_session.TF_Run(session, options,\n\u001b[0;32m   1301\u001b[0m                                    \u001b[0mfeed_dict\u001b[0m\u001b[1;33m,\u001b[0m \u001b[0mfetch_list\u001b[0m\u001b[1;33m,\u001b[0m \u001b[0mtarget_list\u001b[0m\u001b[1;33m,\u001b[0m\u001b[1;33m\u001b[0m\u001b[0m\n\u001b[1;32m-> 1302\u001b[1;33m                                    status, run_metadata)\n\u001b[0m\u001b[0;32m   1303\u001b[0m \u001b[1;33m\u001b[0m\u001b[0m\n\u001b[0;32m   1304\u001b[0m     \u001b[1;32mdef\u001b[0m \u001b[0m_prun_fn\u001b[0m\u001b[1;33m(\u001b[0m\u001b[0msession\u001b[0m\u001b[1;33m,\u001b[0m \u001b[0mhandle\u001b[0m\u001b[1;33m,\u001b[0m \u001b[0mfeed_dict\u001b[0m\u001b[1;33m,\u001b[0m \u001b[0mfetch_list\u001b[0m\u001b[1;33m)\u001b[0m\u001b[1;33m:\u001b[0m\u001b[1;33m\u001b[0m\u001b[0m\n",
      "\u001b[1;31mKeyboardInterrupt\u001b[0m: "
     ]
    }
   ],
   "source": [
    "basave_model_path = './dog_vs_cat'\n",
    "\n",
    "print('Training...')\n",
    "with tf.Session() as sess:\n",
    "    #Initializing the variables\n",
    "    sess.run(tf.global_variables_initializer())\n",
    "    \n",
    "    # Training cycle\n",
    "    for epoch in range(epochs):\n",
    "        # Loop over all batches\n",
    "        train_batch_loss_total=0\n",
    "        train_batch_acc_total=0 \n",
    "        train_batch_count=0\n",
    "        for batch_start in range(0, train_feature.shape[0], batch_size):\n",
    "            batch_end = min(batch_start + batch_size, train_feature.shape[0])\n",
    "            feature_batch = train_feature[batch_start: batch_end]\n",
    "            label_batch = train_label[batch_start: batch_end]\n",
    "\n",
    "            sess.run(optimizer, feed_dict={\n",
    "                    x: feature_batch,\n",
    "                    y: label_batch,\n",
    "                    keep_prob: keep_probability\n",
    "                })\n",
    "            \n",
    "            train_batch_loss_total += sess.run(cost, feed_dict={\n",
    "                x: feature_batch,\n",
    "                y: label_batch,\n",
    "                keep_prob: 1.0\n",
    "                })\n",
    "            train_batch_acc_total += sess.run(accuracy, feed_dict={\n",
    "                x:feature_batch,\n",
    "                y:label_batch,\n",
    "                keep_prob: 1.0\n",
    "            })\n",
    "            train_batch_count += 1\n",
    "        train_loss=train_batch_loss_total/train_batch_count\n",
    "        train_acc=train_batch_acc_total/train_batch_count\n",
    "    \n",
    "    \n",
    "        val_batch_loss_total = 0\n",
    "        val_batch_acc_total = 0\n",
    "        val_batch_count = 0\n",
    "    \n",
    "        for val_batch_start in range(0, val_feature.shape[0], val_batch_size):\n",
    "            val_batch_end = min(val_batch_start + val_batch_size, val_feature.shape[0])\n",
    "            val_feature_batch = val_feature[val_batch_start:val_batch_end]\n",
    "            val_label_batch = val_label[val_batch_start:val_batch_end]\n",
    "        \n",
    "            val_batch_loss_total += sess.run(cost, feed_dict={\n",
    "                x: val_feature_batch,\n",
    "                y: val_label_batch,\n",
    "                keep_prob: 1.\n",
    "            })\n",
    "        \n",
    "            val_batch_acc_total += sess.run(accuracy, feed_dict={\n",
    "                x: val_feature_batch,\n",
    "                y: val_label_batch,\n",
    "                keep_prob: 1.\n",
    "            })\n",
    "            val_batch_count += 1\n",
    "      \n",
    "    \n",
    "        val_loss = val_batch_loss_total/val_batch_count\n",
    "        val_acc = val_batch_acc_total/val_batch_count\n",
    "        print('Epoch {:>2}, Training Loss: {:>3.5f}, Training Accuracy: {:.2f}%, Validation Loss: {:>3.5f}, Validation Accuracy: {:.2f}%'.format(epoch+1, train_loss, train_acc*100, val_loss, val_acc*100))\n",
    "    # Save model\n",
    "    saver = tf.train.Saver()\n",
    "    save_path = saver.save(sess, save_model_path)"
   ]
  },
  {
   "cell_type": "code",
   "execution_count": null,
   "metadata": {},
   "outputs": [],
   "source": []
  }
 ],
 "metadata": {
  "anaconda-cloud": {},
  "kernelspec": {
   "display_name": "Python 3",
   "language": "python",
   "name": "python3"
  },
  "language_info": {
   "codemirror_mode": {
    "name": "ipython",
    "version": 3
   },
   "file_extension": ".py",
   "mimetype": "text/x-python",
   "name": "python",
   "nbconvert_exporter": "python",
   "pygments_lexer": "ipython3",
   "version": "3.5.4"
  }
 },
 "nbformat": 4,
 "nbformat_minor": 1
}
